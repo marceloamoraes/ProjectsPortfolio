{
 "cells": [
  {
   "cell_type": "markdown",
   "metadata": {},
   "source": [
    "## **Milestone III**"
   ]
  },
  {
   "cell_type": "markdown",
   "metadata": {},
   "source": [
    "**- Business objectives:**\n",
    "   - To understand which parameters play an important role in swaying a passenger feedback towards ‘satisfied’. \n",
    "   - To predict whether a passenger will be satisfied or not given the rest of the details are provided.\n",
    "\n",
    "**- Project deliverables:**\n",
    "   - Modelling Process (validation & interpretation)\n",
    "   - Model comparisons\n",
    "   - Interpretation from the best model\n",
    "   - Business insights    "
   ]
  },
  {
   "cell_type": "markdown",
   "metadata": {},
   "source": [
    "###  1.**Data Modeling**"
   ]
  },
  {
   "cell_type": "code",
   "execution_count": 1,
   "metadata": {},
   "outputs": [],
   "source": [
    "#IMPORTING NECESSARY LIBRARIES\n",
    "\n",
    "import warnings\n",
    "\n",
    "warnings.filterwarnings(\"ignore\")\n",
    "# Libraries to help with reading and manipulating data\n",
    "import pandas as pd\n",
    "import numpy as np\n",
    "import random\n",
    "\n",
    "# libaries to help with data visualization\n",
    "import matplotlib.pyplot as plt\n",
    "import seaborn as sns\n",
    "\n",
    "# Libraries to tune model, get different metric scores, and split data\n",
    "from sklearn import metrics\n",
    "from sklearn.metrics import accuracy_score, recall_score, precision_score, f1_score\n",
    "from sklearn.metrics import roc_auc_score\n",
    "from sklearn.metrics import roc_curve\n",
    "\n",
    "from sklearn.model_selection import train_test_split, StratifiedKFold, cross_val_score\n",
    "from sklearn.preprocessing import StandardScaler\n",
    "from sklearn.model_selection import GridSearchCV, RandomizedSearchCV\n",
    "\n",
    "from sklearn.metrics import classification_report,confusion_matrix\n",
    "\n",
    "from sklearn.pipeline import Pipeline, make_pipeline\n",
    "\n",
    "#libraries to help with model building\n",
    "from sklearn.linear_model import LogisticRegression\n",
    "from sklearn.tree import DecisionTreeClassifier\n",
    "from sklearn.ensemble import (\n",
    "    AdaBoostClassifier,\n",
    "    GradientBoostingClassifier,\n",
    "    RandomForestClassifier,\n",
    "    BaggingClassifier)\n",
    "from xgboost import XGBClassifier\n",
    "\n",
    "# to suppress scientifiv notations\n",
    "pd.set_option('display.float_format', lambda x: '%.3f' % x)"
   ]
  },
  {
   "cell_type": "code",
   "execution_count": 2,
   "metadata": {},
   "outputs": [],
   "source": [
    "#Importing Dataset\n",
    "df = pd.read_csv('Dataframe_Modeling.csv',index_col=0)"
   ]
  },
  {
   "cell_type": "code",
   "execution_count": 3,
   "metadata": {},
   "outputs": [
    {
     "data": {
      "text/html": [
       "<div>\n",
       "<style scoped>\n",
       "    .dataframe tbody tr th:only-of-type {\n",
       "        vertical-align: middle;\n",
       "    }\n",
       "\n",
       "    .dataframe tbody tr th {\n",
       "        vertical-align: top;\n",
       "    }\n",
       "\n",
       "    .dataframe thead th {\n",
       "        text-align: right;\n",
       "    }\n",
       "</style>\n",
       "<table border=\"1\" class=\"dataframe\">\n",
       "  <thead>\n",
       "    <tr style=\"text-align: right;\">\n",
       "      <th></th>\n",
       "      <th>PCA_1</th>\n",
       "      <th>PCA_2</th>\n",
       "      <th>PCA_3</th>\n",
       "      <th>PCA_4</th>\n",
       "      <th>PCA_5</th>\n",
       "      <th>PCA_6</th>\n",
       "      <th>PCA_7</th>\n",
       "      <th>PCA_8</th>\n",
       "      <th>PCA_9</th>\n",
       "      <th>PCA_10</th>\n",
       "      <th>PCA_11</th>\n",
       "      <th>PCA_12</th>\n",
       "      <th>PCA_13</th>\n",
       "      <th>Satisfaction</th>\n",
       "    </tr>\n",
       "  </thead>\n",
       "  <tbody>\n",
       "    <tr>\n",
       "      <th>236782</th>\n",
       "      <td>-1.568</td>\n",
       "      <td>3.794</td>\n",
       "      <td>-1.603</td>\n",
       "      <td>2.816</td>\n",
       "      <td>-1.841</td>\n",
       "      <td>1.391</td>\n",
       "      <td>0.179</td>\n",
       "      <td>0.349</td>\n",
       "      <td>-0.999</td>\n",
       "      <td>0.131</td>\n",
       "      <td>-0.023</td>\n",
       "      <td>-0.017</td>\n",
       "      <td>0.655</td>\n",
       "      <td>satisfied</td>\n",
       "    </tr>\n",
       "    <tr>\n",
       "      <th>198324</th>\n",
       "      <td>5.220</td>\n",
       "      <td>2.259</td>\n",
       "      <td>-0.740</td>\n",
       "      <td>0.272</td>\n",
       "      <td>-0.042</td>\n",
       "      <td>-2.160</td>\n",
       "      <td>0.666</td>\n",
       "      <td>-1.024</td>\n",
       "      <td>0.018</td>\n",
       "      <td>-0.374</td>\n",
       "      <td>1.353</td>\n",
       "      <td>0.120</td>\n",
       "      <td>-0.088</td>\n",
       "      <td>neutral or dissatisfied</td>\n",
       "    </tr>\n",
       "    <tr>\n",
       "      <th>232285</th>\n",
       "      <td>-2.940</td>\n",
       "      <td>-0.492</td>\n",
       "      <td>-1.555</td>\n",
       "      <td>1.598</td>\n",
       "      <td>-1.711</td>\n",
       "      <td>1.441</td>\n",
       "      <td>-0.137</td>\n",
       "      <td>0.177</td>\n",
       "      <td>-0.122</td>\n",
       "      <td>-0.569</td>\n",
       "      <td>-0.159</td>\n",
       "      <td>-0.020</td>\n",
       "      <td>-0.417</td>\n",
       "      <td>satisfied</td>\n",
       "    </tr>\n",
       "    <tr>\n",
       "      <th>217265</th>\n",
       "      <td>-0.420</td>\n",
       "      <td>3.553</td>\n",
       "      <td>-1.571</td>\n",
       "      <td>2.603</td>\n",
       "      <td>0.296</td>\n",
       "      <td>-2.011</td>\n",
       "      <td>-0.292</td>\n",
       "      <td>1.374</td>\n",
       "      <td>0.273</td>\n",
       "      <td>-0.411</td>\n",
       "      <td>0.665</td>\n",
       "      <td>0.030</td>\n",
       "      <td>-0.204</td>\n",
       "      <td>satisfied</td>\n",
       "    </tr>\n",
       "    <tr>\n",
       "      <th>233140</th>\n",
       "      <td>-1.052</td>\n",
       "      <td>-0.922</td>\n",
       "      <td>0.065</td>\n",
       "      <td>-0.913</td>\n",
       "      <td>2.766</td>\n",
       "      <td>2.679</td>\n",
       "      <td>-0.582</td>\n",
       "      <td>-1.455</td>\n",
       "      <td>-1.732</td>\n",
       "      <td>-0.434</td>\n",
       "      <td>-0.012</td>\n",
       "      <td>0.052</td>\n",
       "      <td>-0.221</td>\n",
       "      <td>satisfied</td>\n",
       "    </tr>\n",
       "  </tbody>\n",
       "</table>\n",
       "</div>"
      ],
      "text/plain": [
       "        PCA_1  PCA_2  PCA_3  PCA_4  PCA_5  PCA_6  PCA_7  PCA_8  PCA_9  PCA_10  \\\n",
       "236782 -1.568  3.794 -1.603  2.816 -1.841  1.391  0.179  0.349 -0.999   0.131   \n",
       "198324  5.220  2.259 -0.740  0.272 -0.042 -2.160  0.666 -1.024  0.018  -0.374   \n",
       "232285 -2.940 -0.492 -1.555  1.598 -1.711  1.441 -0.137  0.177 -0.122  -0.569   \n",
       "217265 -0.420  3.553 -1.571  2.603  0.296 -2.011 -0.292  1.374  0.273  -0.411   \n",
       "233140 -1.052 -0.922  0.065 -0.913  2.766  2.679 -0.582 -1.455 -1.732  -0.434   \n",
       "\n",
       "        PCA_11  PCA_12  PCA_13             Satisfaction  \n",
       "236782  -0.023  -0.017   0.655                satisfied  \n",
       "198324   1.353   0.120  -0.088  neutral or dissatisfied  \n",
       "232285  -0.159  -0.020  -0.417                satisfied  \n",
       "217265   0.665   0.030  -0.204                satisfied  \n",
       "233140  -0.012   0.052  -0.221                satisfied  "
      ]
     },
     "execution_count": 3,
     "metadata": {},
     "output_type": "execute_result"
    }
   ],
   "source": [
    "#Checking dataset\n",
    "df.head()"
   ]
  },
  {
   "cell_type": "code",
   "execution_count": 4,
   "metadata": {},
   "outputs": [
    {
     "name": "stdout",
     "output_type": "stream",
     "text": [
      "<class 'pandas.core.frame.DataFrame'>\n",
      "Int64Index: 90917 entries, 236782 to 219662\n",
      "Data columns (total 14 columns):\n",
      " #   Column        Non-Null Count  Dtype  \n",
      "---  ------        --------------  -----  \n",
      " 0   PCA_1         90917 non-null  float64\n",
      " 1   PCA_2         90917 non-null  float64\n",
      " 2   PCA_3         90917 non-null  float64\n",
      " 3   PCA_4         90917 non-null  float64\n",
      " 4   PCA_5         90917 non-null  float64\n",
      " 5   PCA_6         90917 non-null  float64\n",
      " 6   PCA_7         90917 non-null  float64\n",
      " 7   PCA_8         90917 non-null  float64\n",
      " 8   PCA_9         90917 non-null  float64\n",
      " 9   PCA_10        90917 non-null  float64\n",
      " 10  PCA_11        90917 non-null  float64\n",
      " 11  PCA_12        90917 non-null  float64\n",
      " 12  PCA_13        90917 non-null  float64\n",
      " 13  Satisfaction  90917 non-null  object \n",
      "dtypes: float64(13), object(1)\n",
      "memory usage: 10.4+ MB\n"
     ]
    }
   ],
   "source": [
    "#Checking information\n",
    "df.info()"
   ]
  },
  {
   "cell_type": "code",
   "execution_count": 5,
   "metadata": {
    "scrolled": false
   },
   "outputs": [
    {
     "data": {
      "image/png": "[encoded data removed]",
      "text/plain": [
       "<Figure size 1080x5760 with 26 Axes>"
      ]
     },
     "metadata": {},
     "output_type": "display_data"
    }
   ],
   "source": [
    "#Checking Distribution of data after PCA\n",
    "all_col_x = df.select_dtypes(include=np.number).columns.tolist()\n",
    "#all_col_x.remove('Customer_Id')\n",
    "sns.set(font_scale=1.0)\n",
    "\n",
    "a=1\n",
    "plt.figure(figsize=(15,80))\n",
    "for i in all_col_x:\n",
    "        plt.subplot(18,2,a)\n",
    "        sns.distplot(df[i])\n",
    "        #plt.title(\"Histogram for:\" + i)\n",
    "        plt.subplot(18,2,a+1)\n",
    "        sns.boxplot(df[i])\n",
    "       # plt.title(\"Boxplot for:\" + i)\n",
    "        a+=2\n",
    "        "
   ]
  },
  {
   "cell_type": "markdown",
   "metadata": {},
   "source": [
    "**Observation:**\n",
    "- Although PCA ensures variables are independent by looking those plots we can observe a great amount of outliers.\n",
    "- Logistic regression model may perform poorly due the existence of those outliers however others models (tree-based models) will not be affected.\n",
    "- Since most of sofisticated models for instance Adaboost, Gradient Boost and XG boost are tree-based models no futher pre-processing will be required since outliers will not affect the performance of such models and it is very likelly they will perform better in comparison with Logistic Regression."
   ]
  },
  {
   "cell_type": "markdown",
   "metadata": {},
   "source": [
    "### **1.1. Splitting Dataset, Strategy to Handle the Big Amount of Data**"
   ]
  },
  {
   "cell_type": "markdown",
   "metadata": {},
   "source": [
    "**Important Information:** \n",
    "- (1) Since current dataset have 1,181,921 datapoints and I do not have cloud based services or paralell Computing resources avaiable, in this project 10% of the dataset will be cut from original without replacement for further statistical test. As a golden rule removing 10% of the original dataset does not affect the characteristics of the population (dataset).\n",
    "- (2) This 10% dataset sample will be used for model bulding part and most importantly hyper tuning.\n",
    "- (3) After model tuning part, the 3 best models with model pre-defined hyper parameters will be used and passed in the full dataset 100%. \n",
    "- (4) The best model will be selected."
   ]
  },
  {
   "cell_type": "code",
   "execution_count": 97,
   "metadata": {},
   "outputs": [],
   "source": [
    "# Get 10 % of rows from the df\n",
    "df10 = df.sample(frac =.1)"
   ]
  },
  {
   "cell_type": "code",
   "execution_count": 98,
   "metadata": {},
   "outputs": [
    {
     "data": {
      "text/html": [
       "<div>\n",
       "<style scoped>\n",
       "    .dataframe tbody tr th:only-of-type {\n",
       "        vertical-align: middle;\n",
       "    }\n",
       "\n",
       "    .dataframe tbody tr th {\n",
       "        vertical-align: top;\n",
       "    }\n",
       "\n",
       "    .dataframe thead th {\n",
       "        text-align: right;\n",
       "    }\n",
       "</style>\n",
       "<table border=\"1\" class=\"dataframe\">\n",
       "  <thead>\n",
       "    <tr style=\"text-align: right;\">\n",
       "      <th></th>\n",
       "      <th>PCA_1</th>\n",
       "      <th>PCA_2</th>\n",
       "      <th>PCA_3</th>\n",
       "      <th>PCA_4</th>\n",
       "      <th>PCA_5</th>\n",
       "      <th>PCA_6</th>\n",
       "      <th>PCA_7</th>\n",
       "      <th>PCA_8</th>\n",
       "      <th>PCA_9</th>\n",
       "      <th>PCA_10</th>\n",
       "      <th>PCA_11</th>\n",
       "      <th>PCA_12</th>\n",
       "      <th>PCA_13</th>\n",
       "      <th>Satisfaction</th>\n",
       "    </tr>\n",
       "  </thead>\n",
       "  <tbody>\n",
       "    <tr>\n",
       "      <th>203683</th>\n",
       "      <td>3.406</td>\n",
       "      <td>2.704</td>\n",
       "      <td>-0.758</td>\n",
       "      <td>-0.605</td>\n",
       "      <td>-1.017</td>\n",
       "      <td>-0.184</td>\n",
       "      <td>-1.397</td>\n",
       "      <td>-0.688</td>\n",
       "      <td>-0.344</td>\n",
       "      <td>0.468</td>\n",
       "      <td>-0.857</td>\n",
       "      <td>0.061</td>\n",
       "      <td>-0.027</td>\n",
       "      <td>neutral or dissatisfied</td>\n",
       "    </tr>\n",
       "    <tr>\n",
       "      <th>211435</th>\n",
       "      <td>0.503</td>\n",
       "      <td>-1.417</td>\n",
       "      <td>-0.084</td>\n",
       "      <td>0.147</td>\n",
       "      <td>-0.450</td>\n",
       "      <td>-0.057</td>\n",
       "      <td>-1.570</td>\n",
       "      <td>0.018</td>\n",
       "      <td>-1.138</td>\n",
       "      <td>-1.293</td>\n",
       "      <td>-0.579</td>\n",
       "      <td>0.003</td>\n",
       "      <td>1.522</td>\n",
       "      <td>satisfied</td>\n",
       "    </tr>\n",
       "    <tr>\n",
       "      <th>195795</th>\n",
       "      <td>1.360</td>\n",
       "      <td>-1.160</td>\n",
       "      <td>-2.971</td>\n",
       "      <td>-0.044</td>\n",
       "      <td>0.866</td>\n",
       "      <td>2.579</td>\n",
       "      <td>0.411</td>\n",
       "      <td>1.078</td>\n",
       "      <td>1.194</td>\n",
       "      <td>0.497</td>\n",
       "      <td>-0.107</td>\n",
       "      <td>-0.019</td>\n",
       "      <td>0.887</td>\n",
       "      <td>satisfied</td>\n",
       "    </tr>\n",
       "    <tr>\n",
       "      <th>154281</th>\n",
       "      <td>2.621</td>\n",
       "      <td>-2.240</td>\n",
       "      <td>1.337</td>\n",
       "      <td>1.729</td>\n",
       "      <td>-4.031</td>\n",
       "      <td>1.304</td>\n",
       "      <td>1.537</td>\n",
       "      <td>-0.207</td>\n",
       "      <td>0.431</td>\n",
       "      <td>0.300</td>\n",
       "      <td>0.484</td>\n",
       "      <td>-0.006</td>\n",
       "      <td>0.161</td>\n",
       "      <td>neutral or dissatisfied</td>\n",
       "    </tr>\n",
       "    <tr>\n",
       "      <th>165795</th>\n",
       "      <td>-1.568</td>\n",
       "      <td>0.876</td>\n",
       "      <td>3.827</td>\n",
       "      <td>0.433</td>\n",
       "      <td>-0.817</td>\n",
       "      <td>-1.967</td>\n",
       "      <td>0.013</td>\n",
       "      <td>0.981</td>\n",
       "      <td>-0.346</td>\n",
       "      <td>-0.297</td>\n",
       "      <td>-0.374</td>\n",
       "      <td>2.246</td>\n",
       "      <td>0.786</td>\n",
       "      <td>satisfied</td>\n",
       "    </tr>\n",
       "  </tbody>\n",
       "</table>\n",
       "</div>"
      ],
      "text/plain": [
       "        PCA_1  PCA_2  PCA_3  PCA_4  PCA_5  PCA_6  PCA_7  PCA_8  PCA_9  PCA_10  \\\n",
       "203683  3.406  2.704 -0.758 -0.605 -1.017 -0.184 -1.397 -0.688 -0.344   0.468   \n",
       "211435  0.503 -1.417 -0.084  0.147 -0.450 -0.057 -1.570  0.018 -1.138  -1.293   \n",
       "195795  1.360 -1.160 -2.971 -0.044  0.866  2.579  0.411  1.078  1.194   0.497   \n",
       "154281  2.621 -2.240  1.337  1.729 -4.031  1.304  1.537 -0.207  0.431   0.300   \n",
       "165795 -1.568  0.876  3.827  0.433 -0.817 -1.967  0.013  0.981 -0.346  -0.297   \n",
       "\n",
       "        PCA_11  PCA_12  PCA_13             Satisfaction  \n",
       "203683  -0.857   0.061  -0.027  neutral or dissatisfied  \n",
       "211435  -0.579   0.003   1.522                satisfied  \n",
       "195795  -0.107  -0.019   0.887                satisfied  \n",
       "154281   0.484  -0.006   0.161  neutral or dissatisfied  \n",
       "165795  -0.374   2.246   0.786                satisfied  "
      ]
     },
     "execution_count": 98,
     "metadata": {},
     "output_type": "execute_result"
    }
   ],
   "source": [
    "#Checking dataset\n",
    "df10.head()"
   ]
  },
  {
   "cell_type": "code",
   "execution_count": 8,
   "metadata": {},
   "outputs": [
    {
     "data": {
      "text/plain": [
       "(9092, 14)"
      ]
     },
     "execution_count": 8,
     "metadata": {},
     "output_type": "execute_result"
    }
   ],
   "source": [
    "#Checking dataset shape\n",
    "df10.shape"
   ]
  },
  {
   "cell_type": "code",
   "execution_count": 9,
   "metadata": {},
   "outputs": [],
   "source": [
    "#Conserve Original Dataset\n",
    "df_o = df.copy() "
   ]
  },
  {
   "cell_type": "code",
   "execution_count": 10,
   "metadata": {},
   "outputs": [],
   "source": [
    "#Including indexes in a list to drop from original dataframe\n",
    "index_list = df10.index.tolist()"
   ]
  },
  {
   "cell_type": "code",
   "execution_count": 11,
   "metadata": {},
   "outputs": [],
   "source": [
    "#Dropping samples from original dataset\n",
    "df = df.drop(index=index_list)"
   ]
  },
  {
   "cell_type": "markdown",
   "metadata": {},
   "source": [
    "**1.1.1 Statistical Test Motivation:** \n",
    "- In order to make sure the probability distribution on the sample matches the probability distribution on the population a t-test (two-tailed) will be performed.\n",
    "    - t-test explained: A t-test is a statistical test that is used to compare the means of two groups."
   ]
  },
  {
   "cell_type": "markdown",
   "metadata": {},
   "source": [
    "**1.1.2 t-test Assumptions:** \n",
    "\n",
    "- Independence of the observations: The slicing created previously made sure that.\n",
    "- No significant outliers in the two groups: PCA_2 was not taken in account.\n",
    "- Normality. the data for each group should be approximately normally distributed: First and second group were verified thru plots.\n",
    "- Homogeneity of variances. the variance of the outcome variable should be equal in each group. This assumption must be tested."
   ]
  },
  {
   "cell_type": "markdown",
   "metadata": {},
   "source": [
    "**Hypothesys Test Definition**\n",
    "- **Null Hypothesis = Ho =** \"Mean of the sample is equal to the mean of the  population.\"\n",
    "- **Null Alternate = Ha =** \"Mean of the sample is different to the mean of the  population.\"\n",
    "    - It was selected **significance level = 0.05**    "
   ]
  },
  {
   "cell_type": "markdown",
   "metadata": {},
   "source": [
    "#### **1.1.3 t-test (two-tailed) execution**"
   ]
  },
  {
   "cell_type": "markdown",
   "metadata": {},
   "source": [
    "#### **1.1.3.1 Validating Homogeneity of Variances**"
   ]
  },
  {
   "cell_type": "code",
   "execution_count": 23,
   "metadata": {},
   "outputs": [
    {
     "name": "stdout",
     "output_type": "stream",
     "text": [
      "4.231624715191889\n",
      "4.323287811458318\n",
      "2.0156628339757203\n",
      "2.0621599861651583\n",
      "0.8912905100212984\n",
      "0.9026676960062764\n"
     ]
    }
   ],
   "source": [
    "#Checking variance assumption\n",
    "print(df['PCA_1'].var())\n",
    "print(df10['PCA_1'].var())\n",
    "print(df['PCA_6'].var())\n",
    "print(df10['PCA_6'].var())\n",
    "print(df['PCA_9'].var())\n",
    "print(df10['PCA_9'].var())"
   ]
  },
  {
   "cell_type": "markdown",
   "metadata": {},
   "source": [
    "**Observation:**\n",
    "- With a variance varying at max of 0.1 it will be assumed variance are the same for each those two groups"
   ]
  },
  {
   "cell_type": "code",
   "execution_count": 13,
   "metadata": {},
   "outputs": [],
   "source": [
    "import scipy.stats as stats"
   ]
  },
  {
   "cell_type": "code",
   "execution_count": 14,
   "metadata": {},
   "outputs": [],
   "source": [
    "# Randomly selecing variable to be checked\n",
    "x = np.array(df['PCA_1'])  # Selecting a random variable\n",
    "y = np.array(df10['PCA_1']) # Selecting a random variable\n",
    "\n",
    "t, p_value  = stats.ttest_ind(x,y)"
   ]
  },
  {
   "cell_type": "code",
   "execution_count": 15,
   "metadata": {},
   "outputs": [
    {
     "name": "stdout",
     "output_type": "stream",
     "text": [
      "Tstat: -1.695224934550905 P-value: 0.0900361828140794\n"
     ]
    }
   ],
   "source": [
    "# For two tailed t-test let's check its p-value\n",
    "print(\"Tstat:\",t,\"P-value:\",p_value)"
   ]
  },
  {
   "cell_type": "code",
   "execution_count": 16,
   "metadata": {},
   "outputs": [],
   "source": [
    "# Randomly selecing variable to be checked\n",
    "x = np.array(df['PCA_6'])  # Selecting a random variable\n",
    "y = np.array(df10['PCA_6']) # Selecting a random variable\n",
    "\n",
    "t, p_value  = stats.ttest_ind(x,y)"
   ]
  },
  {
   "cell_type": "code",
   "execution_count": 17,
   "metadata": {},
   "outputs": [
    {
     "name": "stdout",
     "output_type": "stream",
     "text": [
      "Tstat: -0.1387407205556703 P-value: 0.8896553461989865\n"
     ]
    }
   ],
   "source": [
    "# For two tailed t-test let's check its p-value\n",
    "print(\"Tstat:\",t,\"P-value:\",p_value)"
   ]
  },
  {
   "cell_type": "code",
   "execution_count": 18,
   "metadata": {},
   "outputs": [],
   "source": [
    "# Randomly selecing variable to be checked\n",
    "x = np.array(df['PCA_9'])  # Selecting a random variable\n",
    "y = np.array(df10['PCA_9']) # Selecting a random variable\n",
    "\n",
    "t, p_value  = stats.ttest_ind(x,y)"
   ]
  },
  {
   "cell_type": "code",
   "execution_count": 91,
   "metadata": {},
   "outputs": [
    {
     "name": "stdout",
     "output_type": "stream",
     "text": [
      "Tstat: 0.7752002488679861 P-value: 0.4382233573938765\n"
     ]
    }
   ],
   "source": [
    "# For two tailed t-test let's check its p-value\n",
    "print(\"Tstat:\",t,\"P-value:\",p_value)"
   ]
  },
  {
   "cell_type": "markdown",
   "metadata": {},
   "source": [
    "**Conclusion:**\n",
    "- Randomly selecting 3 variables and comparing the sample - 10% of the original dataset with the population (full dataset) the hypothesys t-test failed to reject null hypothesys.\n",
    "- Statistically speaking the sample is a good representation of the population: all the p-values are greater than the significance level = 0.05"
   ]
  },
  {
   "cell_type": "code",
   "execution_count": 24,
   "metadata": {},
   "outputs": [],
   "source": [
    "#Splitting target variable\n",
    "X = df10.drop(['Satisfaction'],axis=1)\n",
    "y = df10['Satisfaction'].apply(lambda x : 0 if x=='neutral or dissatisfied' else 1)"
   ]
  },
  {
   "cell_type": "code",
   "execution_count": 25,
   "metadata": {},
   "outputs": [
    {
     "name": "stdout",
     "output_type": "stream",
     "text": [
      "(6364, 13) (2728, 13)\n"
     ]
    }
   ],
   "source": [
    "# Splitting data into training and test set:\n",
    "X_train, X_test, y_train, y_test = train_test_split(X, y, test_size=0.3, random_state=7,stratify=y)\n",
    "print(X_train.shape, X_test.shape)"
   ]
  },
  {
   "cell_type": "markdown",
   "metadata": {},
   "source": [
    "### **1.2. Building Models**"
   ]
  },
  {
   "cell_type": "markdown",
   "metadata": {},
   "source": [
    "#### 1.2.1 Model evaluation criterion\n",
    "\n",
    "#### - Model can make wrong predictions as:\n",
    "1. Predicting a customer is satisfied but customer is not satisfied.\n",
    "    - Impact in business:\n",
    "        - lose a valuable customer or asset since the company will never identify customer level of satisfaction\n",
    "        - marketing team might incorretly include this customer in regular marketing campaigns group whereas the correct group would be for custumers who need attention for a possible customer retention campaigns.\n",
    "2. Predicting a customer is not satisfied but in fact customer is satisfied.\n",
    "    - Impact in business:\n",
    "        - Marketing team could spend extra resources in customer retention campaigns for this customer but it would not be necessary since custumer is already satisfied.\n",
    "        - This error could contribute to unplanned revenue growth, the consequence of such error may positively contribute in revenue since customer may not be counted as loyal or recurrent revenue but in fact they will comeback.\n",
    "        \n",
    "#### - Which case is more important? \n",
    "- The main goal of Falcon airlines is towards the parameters importance for passenger satisfaction and since nor cost reduction nor better marketing expenditure were mentioned during project review: Predicting a customer is satisfied but customer is not satisfied will be the focus error to be reduced.\n",
    "\n",
    "**Precision =** True Positive / (True Positive + False Positive)\n",
    "\n",
    "#### - How to reduce this loss i.e need to reduce False Positives?\n",
    "* The metrics choosen was `Prediction` to be maximized, greater the Precision higher the chances of minimizing false positives. Hence, the focus should be on increasing Prediction metrics or minimizing the false positive or in other words identifying the true positives so that Falcon Airlines can lower the risk of loose customers by putting the right resources towards the risk customers (dissatisfied ones)."
   ]
  },
  {
   "cell_type": "markdown",
   "metadata": {},
   "source": [
    "**Fist, let's create two functions to calculate different metrics and confusion matrix, so that we don't have to use the same code repeatedly for each model.**"
   ]
  },
  {
   "cell_type": "code",
   "execution_count": 99,
   "metadata": {},
   "outputs": [],
   "source": [
    "def get_metrics_score(model,train,test,train_y,test_y,flag=True):\n",
    "    '''\n",
    "    model : classifier to predict values of X\n",
    "\n",
    "    '''\n",
    "    # defining an empty list to store train and test results\n",
    "    score_list=[] \n",
    "    \n",
    "    pred_train = model.predict(train)\n",
    "    pred_test = model.predict(test)\n",
    "    \n",
    "    train_precision = metrics.precision_score(train_y,pred_train)\n",
    "    test_precision = metrics.precision_score(test_y,pred_test)\n",
    "    \n",
    "    score_list.extend((train_precision,test_precision))\n",
    "        \n",
    "    # If the flag is set to True then only the following print statements will be dispayed. The default value is set to True.\n",
    "    if flag == True: \n",
    "        print(\"Precision on training set : \",metrics.precision_score(train_y,pred_train))\n",
    "        print(\"Precision on test set : \",metrics.precision_score(test_y,pred_test))\n",
    "    \n",
    "    return score_list # returning the list with train and test scores"
   ]
  },
  {
   "cell_type": "code",
   "execution_count": 100,
   "metadata": {},
   "outputs": [],
   "source": [
    "##  Function to calculate precision score\n",
    "def get_precision_score(model,flag=True):\n",
    "    '''\n",
    "    model : classifier to predict values of X\n",
    "\n",
    "    '''\n",
    "    b = []  # defining an empty list to store train and test results\n",
    "    pred_train = model.predict(X_train)\n",
    "    pred_test = model.predict(X_test)\n",
    "    train_precision = metrics.precision_score(y_train,pred_train)\n",
    "    test_precision = metrics.precision_score(y_test,pred_test)\n",
    "    b.append(train_precision) # adding train precision to list\n",
    "    b.append(test_precision) # adding test precision to list\n",
    "    if flag == True: # If the flag is set to True then only the following print statements will be dispayed\n",
    "        print(\"Precision on training set : \",metrics.precision_score(y_train,pred_train))\n",
    "        print(\"Precision on test set : \",metrics.precision_score(y_test,pred_test))\n",
    "\n",
    "    return b # returning the list with train and test scores"
   ]
  },
  {
   "cell_type": "code",
   "execution_count": 101,
   "metadata": {},
   "outputs": [],
   "source": [
    "## Defining a function for better visualization of confusion matrix\n",
    "\n",
    "from sklearn.metrics import classification_report,confusion_matrix\n",
    "#mat_train = confusion_matrix(y_train,pred_train)\n",
    "\n",
    "\n",
    "def make_confusion_matrix(y_actual,y_predict,labels=[1, 0]):\n",
    "    '''\n",
    "    y_predict: prediction of class\n",
    "    y_actual : ground truth  \n",
    "    '''\n",
    "    cm=confusion_matrix( y_predict,y_actual, labels=[1, 0])\n",
    "    df_cm = pd.DataFrame(cm, index = [i for i in [\"1\",\"0\"]],\n",
    "                  columns = [i for i in ['1','0']])\n",
    "    group_counts = [\"{0:0.0f}\".format(value) for value in\n",
    "                cm.flatten()]\n",
    "    group_percentages = [\"{0:.2%}\".format(value) for value in\n",
    "                         cm.flatten()/np.sum(cm)]\n",
    "    labels = [f\"{v1}\\n{v2}\" for v1, v2 in\n",
    "              zip(group_counts,group_percentages)]\n",
    "    labels = np.asarray(labels).reshape(2,2)\n",
    "    plt.figure(figsize = (7,5))\n",
    "    sns.heatmap(df_cm, annot=labels,fmt='')\n",
    "    plt.ylabel('True label')\n",
    "    plt.xlabel('Predicted label')"
   ]
  },
  {
   "cell_type": "markdown",
   "metadata": {},
   "source": [
    "**1.2.2 Model 1: Logistic Regression** "
   ]
  },
  {
   "cell_type": "markdown",
   "metadata": {},
   "source": [
    "**Important:** \n",
    "- Regression model are highly affected by multi-collinearity. Multi-collinearity happens when independent variables in the regression model are highly correlated to each other. It makes it hard to interpret of model and also creates an overfitting problems.\n",
    "- In this study VIF (Variance Inflation factor) will be used to measure Multi-collinearity."
   ]
  },
  {
   "cell_type": "code",
   "execution_count": 29,
   "metadata": {},
   "outputs": [],
   "source": [
    "#Adding a constant feature required to run the model\n",
    "num_feature_set = X.copy()\n",
    "from statsmodels.tools.tools import add_constant\n",
    "num_feature_set = add_constant(num_feature_set)"
   ]
  },
  {
   "cell_type": "code",
   "execution_count": 30,
   "metadata": {},
   "outputs": [
    {
     "name": "stdout",
     "output_type": "stream",
     "text": [
      "Series before feature selection: \n",
      "\n",
      "const    1.001\n",
      "PCA_1    1.001\n",
      "PCA_2    1.001\n",
      "PCA_3    1.002\n",
      "PCA_4    1.001\n",
      "PCA_5    1.001\n",
      "PCA_6    1.001\n",
      "PCA_7    1.001\n",
      "PCA_8    1.001\n",
      "PCA_9    1.002\n",
      "PCA_10   1.001\n",
      "PCA_11   1.001\n",
      "PCA_12   1.002\n",
      "PCA_13   1.002\n",
      "dtype: float64\n",
      "\n"
     ]
    }
   ],
   "source": [
    "#Checking VIF\n",
    "from statsmodels.stats.outliers_influence import variance_inflation_factor\n",
    "vif_series1 = pd.Series([variance_inflation_factor(num_feature_set.values,i) for i in range(num_feature_set.shape[1])],index=num_feature_set.columns)\n",
    "print('Series before feature selection: \\n\\n{}\\n'.format(vif_series1))"
   ]
  },
  {
   "cell_type": "markdown",
   "metadata": {},
   "source": [
    "**Observation:**\n",
    "- VIF has a lower bound of 1, meaning VIF equals 1 has no correlation.\n",
    "- None of the presented variables are correlated each other, PCA ensured this scenario. Dataset has no multi-collinerarity problems."
   ]
  },
  {
   "cell_type": "code",
   "execution_count": 102,
   "metadata": {},
   "outputs": [
    {
     "name": "stdout",
     "output_type": "stream",
     "text": [
      "Optimization terminated successfully.\n",
      "         Current function value: 0.433515\n",
      "         Iterations 6\n",
      "                           Logit Regression Results                           \n",
      "==============================================================================\n",
      "Dep. Variable:           Satisfaction   No. Observations:                 6364\n",
      "Model:                          Logit   Df Residuals:                     6351\n",
      "Method:                           MLE   Df Model:                           12\n",
      "Date:                Mon, 09 Aug 2021   Pseudo R-squ.:                  0.3701\n",
      "Time:                        21:41:32   Log-Likelihood:                -2758.9\n",
      "converged:                       True   LL-Null:                       -4380.2\n",
      "Covariance Type:            nonrobust   LLR p-value:                     0.000\n",
      "==============================================================================\n",
      "                 coef    std err          z      P>|z|      [0.025      0.975]\n",
      "------------------------------------------------------------------------------\n",
      "PCA_1         -0.8949      0.022    -40.164      0.000      -0.939      -0.851\n",
      "PCA_2          0.1051      0.018      5.763      0.000       0.069       0.141\n",
      "PCA_3         -0.0679      0.019     -3.641      0.000      -0.104      -0.031\n",
      "PCA_4          0.0344      0.022      1.598      0.110      -0.008       0.077\n",
      "PCA_5          0.0807      0.022      3.670      0.000       0.038       0.124\n",
      "PCA_6         -0.1853      0.023     -7.975      0.000      -0.231      -0.140\n",
      "PCA_7          0.1961      0.024      8.113      0.000       0.149       0.243\n",
      "PCA_8          0.4835      0.032     15.307      0.000       0.422       0.545\n",
      "PCA_9         -0.4721      0.035    -13.353      0.000      -0.541      -0.403\n",
      "PCA_10         0.1468      0.038      3.889      0.000       0.073       0.221\n",
      "PCA_11        -0.0884      0.041     -2.178      0.029      -0.168      -0.009\n",
      "PCA_12         0.0487      0.044      1.119      0.263      -0.037       0.134\n",
      "PCA_13         0.3320      0.048      6.908      0.000       0.238       0.426\n",
      "==============================================================================\n"
     ]
    }
   ],
   "source": [
    "#Checking Logistic Regression Results\n",
    "import statsmodels.api as sm\n",
    "logit = sm.Logit(y_train, X_train)\n",
    "lg = logit.fit()\n",
    "\n",
    "print(lg.summary())"
   ]
  },
  {
   "cell_type": "markdown",
   "metadata": {},
   "source": [
    "**P-Values Interpretation:**\n",
    "- A predictor that has a low p-value (< 0.05) is likely to be a meaningful addition to your model because changes in the predictor's value are related to changes in the response variable.\n",
    "\n",
    "- Conversely, a larger (insignificant) p-value suggests that changes in the predictor are not associated with changes in the response.\n",
    "\n",
    "- Any p-value greater than (0.05) means the associated variable is not statistically significant."
   ]
  },
  {
   "cell_type": "code",
   "execution_count": 105,
   "metadata": {},
   "outputs": [
    {
     "name": "stdout",
     "output_type": "stream",
     "text": [
      "Precision on train data: 0.8528428093645485\n",
      "Precision on test data: 0.8596739900779589\n"
     ]
    }
   ],
   "source": [
    "# Let's check accuracy and recall for this model\n",
    "\n",
    "pred_train = lg.predict(X_train)\n",
    "pred_test = lg.predict(X_test)\n",
    "\n",
    "pred_train = np.round(pred_train)\n",
    "pred_test = np.round(pred_test)\n",
    "\n",
    "print('Precision on train data:',precision_score(y_train, pred_train) )\n",
    "print('Precision on test data:',precision_score(y_test, pred_test))\n",
    "\n",
    "Lg_train = precision_score(y_train, pred_train)\n",
    "Lg_test = precision_score(y_test, pred_test)"
   ]
  },
  {
   "cell_type": "markdown",
   "metadata": {},
   "source": [
    "**Observation:**\n",
    "- **First Model without any modification** does not show any sign of overfitting but its performance may be lower than others models.\n",
    "- Precision on Test Data = 85.96.\n",
    "- Next model, variable 'PCA 12' will be droped since it has a p-value=0.263"
   ]
  },
  {
   "cell_type": "code",
   "execution_count": 40,
   "metadata": {},
   "outputs": [
    {
     "name": "stdout",
     "output_type": "stream",
     "text": [
      "Optimization terminated successfully.\n",
      "         Current function value: 0.433613\n",
      "         Iterations 6\n",
      "                           Logit Regression Results                           \n",
      "==============================================================================\n",
      "Dep. Variable:           Satisfaction   No. Observations:                 6364\n",
      "Model:                          Logit   Df Residuals:                     6352\n",
      "Method:                           MLE   Df Model:                           11\n",
      "Date:                Mon, 09 Aug 2021   Pseudo R-squ.:                  0.3700\n",
      "Time:                        20:11:42   Log-Likelihood:                -2759.5\n",
      "converged:                       True   LL-Null:                       -4380.2\n",
      "Covariance Type:            nonrobust   LLR p-value:                     0.000\n",
      "==============================================================================\n",
      "                 coef    std err          z      P>|z|      [0.025      0.975]\n",
      "------------------------------------------------------------------------------\n",
      "PCA_1         -0.8948      0.022    -40.172      0.000      -0.938      -0.851\n",
      "PCA_2          0.1053      0.018      5.776      0.000       0.070       0.141\n",
      "PCA_3         -0.0683      0.019     -3.660      0.000      -0.105      -0.032\n",
      "PCA_4          0.0339      0.022      1.577      0.115      -0.008       0.076\n",
      "PCA_5          0.0806      0.022      3.664      0.000       0.037       0.124\n",
      "PCA_6         -0.1857      0.023     -7.994      0.000      -0.231      -0.140\n",
      "PCA_7          0.1959      0.024      8.106      0.000       0.149       0.243\n",
      "PCA_8          0.4835      0.032     15.307      0.000       0.422       0.545\n",
      "PCA_9         -0.4720      0.035    -13.348      0.000      -0.541      -0.403\n",
      "PCA_10         0.1475      0.038      3.908      0.000       0.074       0.221\n",
      "PCA_11        -0.0881      0.041     -2.172      0.030      -0.168      -0.009\n",
      "PCA_13         0.3310      0.048      6.889      0.000       0.237       0.425\n",
      "==============================================================================\n"
     ]
    }
   ],
   "source": [
    "#Dropping variable with the greatest p-value\n",
    "X_train1 = X_train.drop('PCA_12', axis = 1)\n",
    "X_test1 = X_test.drop('PCA_12', axis = 1)\n",
    "\n",
    "logit1 = sm.Logit(y_train, X_train1)\n",
    "lg1 = logit1.fit()\n",
    "\n",
    "print(lg1.summary())"
   ]
  },
  {
   "cell_type": "code",
   "execution_count": 41,
   "metadata": {},
   "outputs": [
    {
     "name": "stdout",
     "output_type": "stream",
     "text": [
      "Precision on train data: 0.8532806804374241\n",
      "Precision on test data: 0.8605974395448079\n"
     ]
    }
   ],
   "source": [
    "# Let's check accuracy and recall for this model\n",
    "\n",
    "pred_train1 = lg1.predict(X_train1)\n",
    "pred_test1 = lg1.predict(X_test1)\n",
    "\n",
    "pred_train1 = np.round(pred_train1)\n",
    "pred_test1 = np.round(pred_test1)\n",
    "\n",
    "\n",
    "print('Precision on train data:',precision_score(y_train, pred_train1) )\n",
    "print('Precision on test data:',precision_score(y_test, pred_test1))\n"
   ]
  },
  {
   "cell_type": "markdown",
   "metadata": {},
   "source": [
    "**Observation:**\n",
    "- Model does not shows any sign of overfitting but its performance may be lower than others models.\n",
    "- Precision on Test Data = 86.06. No improvements by dropping variable\n",
    "- Next model, variable 'PCA 4' will be droped since it has a p-value=0.115"
   ]
  },
  {
   "cell_type": "code",
   "execution_count": 42,
   "metadata": {},
   "outputs": [
    {
     "name": "stdout",
     "output_type": "stream",
     "text": [
      "Optimization terminated successfully.\n",
      "         Current function value: 0.433809\n",
      "         Iterations 6\n",
      "                           Logit Regression Results                           \n",
      "==============================================================================\n",
      "Dep. Variable:           Satisfaction   No. Observations:                 6364\n",
      "Model:                          Logit   Df Residuals:                     6353\n",
      "Method:                           MLE   Df Model:                           10\n",
      "Date:                Mon, 09 Aug 2021   Pseudo R-squ.:                  0.3697\n",
      "Time:                        20:11:53   Log-Likelihood:                -2760.8\n",
      "converged:                       True   LL-Null:                       -4380.2\n",
      "Covariance Type:            nonrobust   LLR p-value:                     0.000\n",
      "==============================================================================\n",
      "                 coef    std err          z      P>|z|      [0.025      0.975]\n",
      "------------------------------------------------------------------------------\n",
      "PCA_1         -0.8955      0.022    -40.186      0.000      -0.939      -0.852\n",
      "PCA_2          0.1058      0.018      5.809      0.000       0.070       0.142\n",
      "PCA_3         -0.0687      0.019     -3.687      0.000      -0.105      -0.032\n",
      "PCA_5          0.0802      0.022      3.643      0.000       0.037       0.123\n",
      "PCA_6         -0.1851      0.023     -7.967      0.000      -0.231      -0.140\n",
      "PCA_7          0.1955      0.024      8.092      0.000       0.148       0.243\n",
      "PCA_8          0.4820      0.032     15.268      0.000       0.420       0.544\n",
      "PCA_9         -0.4718      0.035    -13.328      0.000      -0.541      -0.402\n",
      "PCA_10         0.1463      0.038      3.877      0.000       0.072       0.220\n",
      "PCA_11        -0.0865      0.041     -2.132      0.033      -0.166      -0.007\n",
      "PCA_13         0.3323      0.048      6.914      0.000       0.238       0.426\n",
      "==============================================================================\n"
     ]
    }
   ],
   "source": [
    "#Dropping variable with the greatest p-value\n",
    "X_train2 = X_train1.drop('PCA_4', axis = 1)\n",
    "X_test2 = X_test1.drop('PCA_4', axis = 1)\n",
    "\n",
    "logit2 = sm.Logit(y_train, X_train2)\n",
    "lg2 = logit2.fit()\n",
    "\n",
    "print(lg2.summary())"
   ]
  },
  {
   "cell_type": "code",
   "execution_count": 43,
   "metadata": {},
   "outputs": [
    {
     "name": "stdout",
     "output_type": "stream",
     "text": [
      "Precision on train data: 0.854578643139641\n",
      "Precision on test data: 0.8612880396319886\n"
     ]
    }
   ],
   "source": [
    "# Let's check accuracy and recall for this model\n",
    "pred_train2 = lg2.predict(X_train2)\n",
    "pred_test2 = lg2.predict(X_test2)\n",
    "\n",
    "pred_train2 = np.round(pred_train2)\n",
    "pred_test2 = np.round(pred_test2)\n",
    "\n",
    "print('Precision on train data:',precision_score(y_train, pred_train2) )\n",
    "print('Precision on test data:',precision_score(y_test, pred_test2))"
   ]
  },
  {
   "cell_type": "markdown",
   "metadata": {},
   "source": [
    "**Observation:**\n",
    "- Model did not show any sign of overfitting, the difference between test and train was reduced.\n",
    "- Precision on Test Data = 86.12. An improvement of .06 was found by removing variables: PCA_12 And PCA_4.\n",
    "- No more variables to be dropped since most p-values are lower than 0.05"
   ]
  },
  {
   "cell_type": "markdown",
   "metadata": {},
   "source": [
    "**Conclusion:**\n",
    "- By removing all variables with p-value greater than (0.05) it did not significantly affect the performance of the model.\n",
    "- The best Logistic Regression model that will be kept will be the first model (lg), model without variables removed. \n",
    "- First model = Precision on Test Data = 86.06 (no modifications)"
   ]
  },
  {
   "cell_type": "markdown",
   "metadata": {},
   "source": [
    "**1.2.3 Model 1: Logistic Regression (AUC-ROC) using optimal threshold** "
   ]
  },
  {
   "cell_type": "markdown",
   "metadata": {},
   "source": [
    "**Prediction on Train data**"
   ]
  },
  {
   "cell_type": "code",
   "execution_count": 45,
   "metadata": {},
   "outputs": [],
   "source": [
    "#Defining variables for confusion matrix  function\n",
    "pred_train = lg.predict(X_train)\n",
    "pred_train = np.round(pred_train)"
   ]
  },
  {
   "cell_type": "code",
   "execution_count": 46,
   "metadata": {},
   "outputs": [
    {
     "data": {
      "image/png": "[encoded data removed]",
      "text/plain": [
       "<Figure size 504x360 with 2 Axes>"
      ]
     },
     "metadata": {},
     "output_type": "display_data"
    }
   ],
   "source": [
    "#Confusion matrix on Train Data\n",
    "make_confusion_matrix(y_train,pred_train)"
   ]
  },
  {
   "cell_type": "markdown",
   "metadata": {},
   "source": [
    "**Predicting on Test Data**"
   ]
  },
  {
   "cell_type": "code",
   "execution_count": 47,
   "metadata": {},
   "outputs": [],
   "source": [
    "#Defining variables for confusion matrix  function\n",
    "pred_test0 = lg.predict(X_test)\n",
    "pred_test0 = np.round(pred_test0)"
   ]
  },
  {
   "cell_type": "code",
   "execution_count": 48,
   "metadata": {},
   "outputs": [
    {
     "data": {
      "image/png": "[encoded data removed]",
      "text/plain": [
       "<Figure size 504x360 with 2 Axes>"
      ]
     },
     "metadata": {},
     "output_type": "display_data"
    }
   ],
   "source": [
    "# Creating confusion matrix\n",
    "make_confusion_matrix(y_test,pred_test0)"
   ]
  },
  {
   "cell_type": "code",
   "execution_count": 49,
   "metadata": {},
   "outputs": [
    {
     "name": "stdout",
     "output_type": "stream",
     "text": [
      "Precision on train data: 0.8528428093645485\n",
      "Precision on test data: 0.8596739900779589\n"
     ]
    }
   ],
   "source": [
    "#Precision with a threhold of 0.5\n",
    "print('Precision on train data:',precision_score(y_train, pred_train) )\n",
    "print('Precision on test data:',precision_score(y_test, pred_test0))"
   ]
  },
  {
   "cell_type": "markdown",
   "metadata": {},
   "source": [
    "**Observation:**\n",
    "- Model did not show any signs of overfitting, the difference between test and train was reduced.\n",
    "- Precision on Test Data = 0.860 kept the same. This technic did not add much value. "
   ]
  },
  {
   "cell_type": "markdown",
   "metadata": {},
   "source": [
    "**1.2.3.1 AUC-ROC Curve** "
   ]
  },
  {
   "cell_type": "code",
   "execution_count": 50,
   "metadata": {},
   "outputs": [
    {
     "data": {
      "image/png": "[encoded data removed]",
      "text/plain": [
       "<Figure size 936x576 with 1 Axes>"
      ]
     },
     "metadata": {},
     "output_type": "display_data"
    }
   ],
   "source": [
    "logit_roc_auc = roc_auc_score(y_test, lg.predict(X_test))\n",
    "fpr, tpr, thresholds = roc_curve(y_test, lg.predict(X_test))\n",
    "plt.figure(figsize=(13,8))\n",
    "plt.plot(fpr, tpr, label='Logistic Regression (area = %0.2f)' % logit_roc_auc)\n",
    "plt.plot([0, 1], [0, 1],'r--')\n",
    "plt.xlim([0.0, 1.0])\n",
    "plt.ylim([0.0, 1.05])\n",
    "plt.xlabel('False Positive Rate')\n",
    "plt.ylabel('True Positive Rate')\n",
    "plt.title('Receiver operating characteristic')\n",
    "plt.legend(loc=\"lower right\")\n",
    "plt.savefig('Log_ROC')\n",
    "plt.show()"
   ]
  },
  {
   "cell_type": "markdown",
   "metadata": {},
   "source": [
    "**Important:**\n",
    "- The ROC curve shows a trade-off between TPR and FPR (or false negatives and false positives). It plots TPR vs FPR at different thresholds. \n",
    "- The idea is to find an option threshold where TPR is maximazed and FPR is minimazed.\n",
    "- AUC (area under the curve), represents a degree or measure of separability. It tells us how much the model is capable of distinguishing between classes. It ranges from 0 to 1. A model whose predictions are 100% right has an AUC =1\n",
    "- Results demonstrated AUC = 0.89 which can be considered a good result."
   ]
  },
  {
   "cell_type": "markdown",
   "metadata": {},
   "source": [
    "#### **1.2.3.2 Choosing Optimal threshold**"
   ]
  },
  {
   "cell_type": "code",
   "execution_count": 51,
   "metadata": {},
   "outputs": [
    {
     "name": "stdout",
     "output_type": "stream",
     "text": [
      "0.5122461740681653\n"
     ]
    }
   ],
   "source": [
    "pred_train = lg.predict(X_train)\n",
    "# The optimal cut off would be where tpr is high and fpr is low\n",
    "fpr, tpr, thresholds = roc_curve(y_train, pred_train)\n",
    "\n",
    "optimal_idx = np.argmax(tpr - fpr)\n",
    "optimal_threshold = thresholds[optimal_idx]\n",
    "print(optimal_threshold)"
   ]
  },
  {
   "cell_type": "markdown",
   "metadata": {},
   "source": [
    "**Observation:**\n",
    "- Optimum threshold found was 0.499"
   ]
  },
  {
   "cell_type": "code",
   "execution_count": 52,
   "metadata": {},
   "outputs": [
    {
     "data": {
      "image/png": "[encoded data removed]",
      "text/plain": [
       "<Figure size 504x360 with 2 Axes>"
      ]
     },
     "metadata": {},
     "output_type": "display_data"
    }
   ],
   "source": [
    "# plotting confusion matrix using optimal threshold\n",
    "y_pred_tr = (lg.predict(X_train)>optimal_threshold).astype(int)\n",
    "y_pred_ts = (lg.predict(X_test)>optimal_threshold).astype(int)\n",
    "make_confusion_matrix(y_train,y_pred_tr )"
   ]
  },
  {
   "cell_type": "code",
   "execution_count": 53,
   "metadata": {},
   "outputs": [
    {
     "data": {
      "image/png": "[encoded data removed]",
      "text/plain": [
       "<Figure size 504x360 with 2 Axes>"
      ]
     },
     "metadata": {},
     "output_type": "display_data"
    }
   ],
   "source": [
    "# let us make confusion matrix on test set\n",
    "make_confusion_matrix(y_test,y_pred_ts)"
   ]
  },
  {
   "cell_type": "code",
   "execution_count": 107,
   "metadata": {},
   "outputs": [
    {
     "name": "stdout",
     "output_type": "stream",
     "text": [
      "Precision on train data: 0.8588597842835131\n",
      "Precision on test data: 0.8654676258992806\n"
     ]
    }
   ],
   "source": [
    "#Precision with a threhold of 0.49\n",
    "print('Precision on train data:',precision_score(y_train,y_pred_tr) )\n",
    "print('Precision on test data:',precision_score(y_test,y_pred_ts))\n",
    "\n",
    "Lg_opt_train = precision_score(y_train,y_pred_tr)\n",
    "Lg_opt_test = precision_score(y_test,y_pred_ts)"
   ]
  },
  {
   "cell_type": "markdown",
   "metadata": {},
   "source": [
    "**Conclusion:**\n",
    "- Using the optimal threshold it was possible to increase Precison by 0.005, it has being the best result at this point = 0.865(on Test Dataset)\n",
    "- Comparison between train and test precision results do not present any sign of overfitting.\n",
    "- Confusion Matrix showing 296 errors of False Positive representing (10.85%). "
   ]
  },
  {
   "cell_type": "markdown",
   "metadata": {},
   "source": [
    "**1.2.4 Checking for unbalanced data** "
   ]
  },
  {
   "cell_type": "code",
   "execution_count": 55,
   "metadata": {},
   "outputs": [
    {
     "name": "stdout",
     "output_type": "stream",
     "text": [
      "Before UpSampling, counts of label 'Yes': 3496\n",
      "Before UpSampling, counts of label 'No': 2868 \n",
      "\n"
     ]
    }
   ],
   "source": [
    "print(\"Before UpSampling, counts of label 'Yes': {}\".format(sum(y_train==1)))\n",
    "print(\"Before UpSampling, counts of label 'No': {} \\n\".format(sum(y_train==0)))"
   ]
  },
  {
   "cell_type": "markdown",
   "metadata": {},
   "source": [
    "**Conclusion:**\n",
    "- The minority class with 45% of the dataset does not represent an unbalanced dataset. I could not find information to support what would be a percentage threshold to be considered unbalanced but I can certainly say 10% percent difference should be a normal difference that do not represent a significant unbalanced dataset problem."
   ]
  },
  {
   "cell_type": "markdown",
   "metadata": {},
   "source": [
    "**1.2.5 Bagging and Boosting** "
   ]
  },
  {
   "cell_type": "markdown",
   "metadata": {},
   "source": [
    "**Important:**\n",
    "   - Bagging and boosting (Ensemble Methods):\n",
    "        - They are similar both are ensemble techniques, where a set of weak learners are combined to create a strong learner that obtains better performance than a single one.\n",
    "        - Bagging helps to decrease the model’s variance.\n",
    "        - Boosting helps to decrease the model’s bias.\n",
    "        - These methods are designed to improve the stability and the accuracy of Machine Learning algorithms. Combinations of multiple classifiers decrease variance, especially in the case of unstable classifiers, and may produce a more reliable classification than a single classifier.\n",
    "\n",
    "   - Stratified K-Folds cross-validator:\n",
    "       - It provides dataset indices to split data in train/validation sets. Split dataset into k consecutive folds (without shuffling by default) keeping distribution of both classes in each fold same as the target variable. Each fold is then used once as a validation while the k - 1 remaining folds form the training set."
   ]
  },
  {
   "cell_type": "markdown",
   "metadata": {},
   "source": [
    "**Process Detail:**\n",
    "- Build different models using KFold and cross_val_score with pipelines and tune the best model using GridSearchCV and RandomizedSearchCV**"
   ]
  },
  {
   "cell_type": "code",
   "execution_count": 56,
   "metadata": {},
   "outputs": [
    {
     "name": "stdout",
     "output_type": "stream",
     "text": [
      "DTREE: 81.82883975301445\n",
      "Bagging: 88.0861103928525\n",
      "RF: 89.16408043178969\n",
      "ADB: 83.69949732592016\n",
      "GBM: 87.80644922810754\n",
      "XGB: 88.9577162517292\n",
      "Wall time: 26.5 s\n"
     ]
    }
   ],
   "source": [
    "%%time\n",
    "\n",
    "models = []  # Empty list to store all the models\n",
    "\n",
    "# Appending pipelines for each model into the list\n",
    "\n",
    "models.append(\n",
    "    (\n",
    "        \"DTREE\",\n",
    "        Pipeline(\n",
    "            steps=[\n",
    "                (\"scaler\", StandardScaler()),\n",
    "                (\"decision_tree\", DecisionTreeClassifier(random_state=1,)),\n",
    "            ]\n",
    "        ),\n",
    "    )\n",
    ")\n",
    "\n",
    "\n",
    "models.append(\n",
    "    (\n",
    "        \"Bagging\",\n",
    "        Pipeline(\n",
    "            steps=[\n",
    "                (\"scaler\", StandardScaler()),\n",
    "                (\"random_forest\", BaggingClassifier(random_state=1)),\n",
    "            ]\n",
    "        ),\n",
    "    )\n",
    ")\n",
    "\n",
    "\n",
    "models.append(\n",
    "    (\n",
    "        \"RF\",\n",
    "        Pipeline(\n",
    "            steps=[\n",
    "                (\"scaler\", StandardScaler()),\n",
    "                (\"random_forest\", RandomForestClassifier(random_state=1)),\n",
    "            ]\n",
    "        ),\n",
    "    )\n",
    ")\n",
    "\n",
    "models.append(\n",
    "    (\n",
    "        \"ADB\",\n",
    "        Pipeline(\n",
    "            steps=[\n",
    "                (\"scaler\", StandardScaler()),\n",
    "                (\"adaboost\", AdaBoostClassifier(random_state=1)),\n",
    "            ]\n",
    "        ),\n",
    "    )\n",
    ")\n",
    "\n",
    "\n",
    "models.append(\n",
    "    (\n",
    "        \"GBM\",\n",
    "        Pipeline(\n",
    "            steps=[\n",
    "                (\"scaler\", StandardScaler()),\n",
    "                (\"gradient_boosting\", GradientBoostingClassifier(random_state=1)),\n",
    "            ]\n",
    "        ),\n",
    "    )\n",
    ")\n",
    "\n",
    "\n",
    "models.append(\n",
    "    (\n",
    "        \"XGB\",\n",
    "        Pipeline(\n",
    "            steps=[\n",
    "                (\"scaler\", StandardScaler()),\n",
    "                (\"xgboost\", XGBClassifier(random_state=1,eval_metric='logloss')),\n",
    "            ]\n",
    "        ),\n",
    "    )\n",
    ")\n",
    "\n",
    "results = []  # Empty list to store all model's CV scores\n",
    "names = []  # Empty list to store name of the models\n",
    "\n",
    "# loop through all models to get the mean cross validated score\n",
    "for name, model in models:\n",
    "    scoring = \"precision\"\n",
    "    kfold = StratifiedKFold(\n",
    "        n_splits=5, shuffle=True, random_state=1\n",
    "    )  # Setting number of splits equal to 5\n",
    "    cv_result = cross_val_score(\n",
    "        estimator=model, X=X_train, y=y_train, scoring=scoring, cv=kfold\n",
    "    )\n",
    "    results.append(cv_result)\n",
    "    names.append(name)\n",
    "    print(\"{}: {}\".format(name, cv_result.mean() * 100))\n",
    "    \n",
    "    "
   ]
  },
  {
   "cell_type": "code",
   "execution_count": 57,
   "metadata": {},
   "outputs": [
    {
     "data": {
      "image/png": "[encoded data removed]",
      "text/plain": [
       "<Figure size 720x504 with 1 Axes>"
      ]
     },
     "metadata": {},
     "output_type": "display_data"
    }
   ],
   "source": [
    "# Plotting boxplots for CV scores of all models defined above\n",
    "fig = plt.figure(figsize=(10, 7))\n",
    "\n",
    "fig.suptitle(\"Algorithm Comparison\")\n",
    "ax = fig.add_subplot(111)\n",
    "\n",
    "plt.boxplot(results)\n",
    "ax.set_xticklabels(names)\n",
    "\n",
    "plt.show()"
   ]
  },
  {
   "cell_type": "markdown",
   "metadata": {},
   "source": [
    "# **Model Selection Conclusion:**\n",
    "- List of 4 best models by ascending order:\n",
    "<br> \n",
    "\n",
    "    - Random Florest presented the second best performance with its variability ranging from decimals of .87 and .89 and **mean = .89**\n",
    "    - XGboost presented a great performance with its variability based on cross validation process ranging from .88 - .91 and **mean = .89**\n",
    "    - Gradient Boost also presented a good performance with its variability based on cross validation process ranging from .87 - .89 and **mean = .88**\n",
    "    - Bagging also presented a good performance but lower variability in comparison to others ranging from .87 - .89 and **mean = .89**\n",
    "\n",
    "<br> \n",
    "\n",
    "**- These 4 models** selected previously will be used for Hypertuning as an attempt to better tailor the defaut model and their hyperparameters to the characteristics of the dataset in study.    \n",
    "    "
   ]
  },
  {
   "cell_type": "markdown",
   "metadata": {},
   "source": [
    "**1.2.6 Hyperparameter Tuning** "
   ]
  },
  {
   "cell_type": "markdown",
   "metadata": {},
   "source": [
    "**1.2.6.1 Hyperparameter Tuning - BaggingClassifier**"
   ]
  },
  {
   "cell_type": "markdown",
   "metadata": {},
   "source": [
    "**1.2.6.1.1 GridSerach CV - BaggingClassifier**"
   ]
  },
  {
   "cell_type": "code",
   "execution_count": 58,
   "metadata": {},
   "outputs": [
    {
     "name": "stdout",
     "output_type": "stream",
     "text": [
      "Best Parameters:{'baggingclassifier__max_features': 0.7, 'baggingclassifier__max_samples': 0.8, 'baggingclassifier__n_estimators': 40} \n",
      "Score: 0.8946279996199002\n",
      "Wall time: 1min 6s\n"
     ]
    }
   ],
   "source": [
    "%%time\n",
    "\n",
    "# Creating pipeline\n",
    "pipe = make_pipeline(StandardScaler(), BaggingClassifier(random_state=1))\n",
    "\n",
    "# Parameter grid to pass in GridSearchCV\n",
    "\n",
    "param_grid = {\n",
    "              'baggingclassifier__max_samples': [0.7,0.8,0.9,1], \n",
    "              'baggingclassifier__max_features': [0.7,0.8,0.9,1],\n",
    "              'baggingclassifier__n_estimators' : [10,20,30,40,50],\n",
    "             }\n",
    "\n",
    "# Type of scoring used to compare parameter combinations\n",
    "scorer = metrics.make_scorer(metrics.precision_score)\n",
    "\n",
    "# Calling GridSearchCV\n",
    "grid_cv = GridSearchCV(estimator=pipe, param_grid=param_grid, scoring=scorer, cv=5, n_jobs = -1)\n",
    "\n",
    "# Fitting parameters in GridSeachCV\n",
    "grid_cv.fit(X_train, y_train)\n",
    "\n",
    "print(\n",
    "    \"Best Parameters:{} \\nScore: {}\".format(grid_cv.best_params_, grid_cv.best_score_)\n",
    ")"
   ]
  },
  {
   "cell_type": "code",
   "execution_count": 59,
   "metadata": {},
   "outputs": [
    {
     "data": {
      "text/plain": [
       "Pipeline(steps=[('standardscaler', StandardScaler()),\n",
       "                ('baggingclassifier',\n",
       "                 BaggingClassifier(max_features=0.7, max_samples=0.8,\n",
       "                                   n_estimators=40, random_state=1))])"
      ]
     },
     "execution_count": 59,
     "metadata": {},
     "output_type": "execute_result"
    }
   ],
   "source": [
    "# Creating new pipeline with best parameters\n",
    "bagg_tuned1 = make_pipeline(\n",
    "    StandardScaler(),\n",
    "    BaggingClassifier(\n",
    "        max_features=0.7,\n",
    "        max_samples=0.8,\n",
    "        random_state=1,\n",
    "        n_estimators=40,\n",
    "    ),\n",
    ")\n",
    "\n",
    "# Fit the model on training data\n",
    "bagg_tuned1.fit(X_train, y_train)"
   ]
  },
  {
   "cell_type": "code",
   "execution_count": 60,
   "metadata": {},
   "outputs": [],
   "source": [
    "def make_confusion_matrix2(model,y_actual,labels=[1, 0]):\n",
    "    '''\n",
    "    model : classifier to predict values of X\n",
    "    y_actual : ground truth  \n",
    "    \n",
    "    '''\n",
    "    y_predict = model.predict(X_test)\n",
    "    cm=metrics.confusion_matrix( y_actual, y_predict, labels=[0, 1])\n",
    "    df_cm = pd.DataFrame(cm, index = [i for i in [\"Actual - No\",\"Actual - Yes\"]],\n",
    "                  columns = [i for i in ['Predicted - No','Predicted - Yes']])\n",
    "    group_counts = [\"{0:0.0f}\".format(value) for value in\n",
    "                cm.flatten()]\n",
    "    group_percentages = [\"{0:.2%}\".format(value) for value in\n",
    "                         cm.flatten()/np.sum(cm)]\n",
    "    labels = [f\"{v1}\\n{v2}\" for v1, v2 in\n",
    "              zip(group_counts,group_percentages)]\n",
    "    labels = np.asarray(labels).reshape(2,2)\n",
    "    plt.figure(figsize = (10,7))\n",
    "    sns.heatmap(df_cm, annot=labels,fmt='')\n",
    "    plt.ylabel('True label')\n",
    "    plt.xlabel('Predicted label')"
   ]
  },
  {
   "cell_type": "code",
   "execution_count": 61,
   "metadata": {},
   "outputs": [
    {
     "name": "stdout",
     "output_type": "stream",
     "text": [
      "Precision on training set :  0.9977123248498713\n",
      "Precision on test set :  0.8988919667590027\n"
     ]
    },
    {
     "data": {
      "image/png": "[encoded data removed]",
      "text/plain": [
       "<Figure size 720x504 with 2 Axes>"
      ]
     },
     "metadata": {},
     "output_type": "display_data"
    }
   ],
   "source": [
    "# Calculating different metrics\n",
    "get_metrics_score(bagg_tuned1,X_train,X_test,y_train,y_test)\n",
    "\n",
    "# Creating confusion matrix\n",
    "make_confusion_matrix2(bagg_tuned1, y_test)"
   ]
  },
  {
   "cell_type": "markdown",
   "metadata": {},
   "source": [
    "- The precision on test dataset has increased to 89.88 as compared to the result from cross validation 88.08 with default parameters.\n",
    "- The model is overfitting the training data."
   ]
  },
  {
   "cell_type": "markdown",
   "metadata": {},
   "source": [
    "**1.2.6.1.2 RandomizedSearchCV - BaggingClassifier**"
   ]
  },
  {
   "cell_type": "code",
   "execution_count": 62,
   "metadata": {},
   "outputs": [
    {
     "name": "stdout",
     "output_type": "stream",
     "text": [
      "Best parameters are {'baggingclassifier__n_estimators': 40, 'baggingclassifier__max_samples': 0.8, 'baggingclassifier__max_features': 0.7} with CV score=0.8946279996199002:\n",
      "Wall time: 38.8 s\n"
     ]
    }
   ],
   "source": [
    "\n",
    "%%time\n",
    "\n",
    "# Creating pipeline\n",
    "pipe = make_pipeline(StandardScaler(), BaggingClassifier(random_state=1))\n",
    "\n",
    "# Parameter grid to pass in RandomSearchCV\n",
    "param_grid = {\n",
    "              'baggingclassifier__max_samples': [0.7,0.8,0.9,1], \n",
    "              'baggingclassifier__max_features': [0.7,0.8,0.9,1],\n",
    "              'baggingclassifier__n_estimators' : [10,20,30,40,50],\n",
    "             }\n",
    "\n",
    "# Type of scoring used to compare parameter combinations\n",
    "scorer = metrics.make_scorer(metrics.precision_score)\n",
    "\n",
    "#Calling RandomizedSearchCV\n",
    "randomized_cv = RandomizedSearchCV(estimator=pipe, param_distributions=param_grid, n_jobs = -1, n_iter=50, scoring=scorer, cv=5, random_state=1)\n",
    "\n",
    "#Fitting parameters in RandomizedSearchCV\n",
    "randomized_cv.fit(X_train,y_train)\n",
    "\n",
    "print(\"Best parameters are {} with CV score={}:\" .format(randomized_cv.best_params_,randomized_cv.best_score_))"
   ]
  },
  {
   "cell_type": "code",
   "execution_count": 63,
   "metadata": {},
   "outputs": [
    {
     "data": {
      "text/plain": [
       "Pipeline(steps=[('standardscaler', StandardScaler()),\n",
       "                ('baggingclassifier',\n",
       "                 BaggingClassifier(max_features=0.8, max_samples=0.7,\n",
       "                                   n_estimators=40, random_state=1))])"
      ]
     },
     "execution_count": 63,
     "metadata": {},
     "output_type": "execute_result"
    }
   ],
   "source": [
    "# Creating new pipeline with best parameters\n",
    "bagg_tuned2 = make_pipeline(\n",
    "    StandardScaler(),\n",
    "    BaggingClassifier(\n",
    "        max_features=0.8,\n",
    "        random_state=1,\n",
    "        max_samples=0.7,\n",
    "        n_estimators=40\n",
    "    ),\n",
    ")\n",
    "\n",
    "# Fit the model on training data\n",
    "bagg_tuned2.fit(X_train, y_train)"
   ]
  },
  {
   "cell_type": "code",
   "execution_count": 64,
   "metadata": {},
   "outputs": [
    {
     "name": "stdout",
     "output_type": "stream",
     "text": [
      "Precision on training set :  0.9956983080011471\n",
      "Precision on test set :  0.8861185983827493\n"
     ]
    },
    {
     "data": {
      "image/png": "[encoded data removed]",
      "text/plain": [
       "<Figure size 720x504 with 2 Axes>"
      ]
     },
     "metadata": {},
     "output_type": "display_data"
    }
   ],
   "source": [
    "# Calculating different metrics\n",
    "get_metrics_score(bagg_tuned2,X_train,X_test,y_train,y_test)\n",
    "\n",
    "# Creating confusion matrix\n",
    "make_confusion_matrix2(bagg_tuned2, y_test)"
   ]
  },
  {
   "cell_type": "markdown",
   "metadata": {},
   "source": [
    "- Grid search took significantly longer time than random search. \n",
    "- The parameters from random search to grid search did not change.\n",
    "- Model is overfitting train set for the parameters given by random search.\n",
    "- The precision on test dataset has decreased to 88.61 as compared to the result from grid search 89.88 with default parameters."
   ]
  },
  {
   "cell_type": "markdown",
   "metadata": {},
   "source": [
    "**1.2.6.2 Hyperparameter Tuning - GradientBoost**"
   ]
  },
  {
   "cell_type": "markdown",
   "metadata": {},
   "source": [
    "**1.2.6.2.1 GridSerach CV - GradientBoost**"
   ]
  },
  {
   "cell_type": "code",
   "execution_count": 65,
   "metadata": {},
   "outputs": [
    {
     "name": "stdout",
     "output_type": "stream",
     "text": [
      "Best Parameters:{'gradientboostingclassifier__init': AdaBoostClassifier(random_state=1), 'gradientboostingclassifier__learning_rate': 0.1, 'gradientboostingclassifier__max_features': 0.7, 'gradientboostingclassifier__n_estimators': 100, 'gradientboostingclassifier__subsample': 0.7} \n",
      "Score: 0.8855693094723055\n",
      "Wall time: 6min 26s\n"
     ]
    }
   ],
   "source": [
    "%%time \n",
    "\n",
    "# Creating pipeline\n",
    "pipe = make_pipeline(StandardScaler(), GradientBoostingClassifier(random_state=1))\n",
    "\n",
    "# Parameter grid to pass in GridSearchCV\n",
    "param_grid = {\n",
    "    \"gradientboostingclassifier__init\": [AdaBoostClassifier(random_state=1),DecisionTreeClassifier(random_state=1)],\n",
    "    \"gradientboostingclassifier__n_estimators\": np.arange(75,150,25),\n",
    "    \"gradientboostingclassifier__learning_rate\": [0.1, 0.01, 0.2, 0.05, 1],\n",
    "    \"gradientboostingclassifier__subsample\":[0.5,0.7,1],\n",
    "    \"gradientboostingclassifier__max_features\":[0.5,0.7,1],\n",
    "}\n",
    "\n",
    "# Type of scoring used to compare parameter combinations\n",
    "scorer = metrics.make_scorer(metrics.precision_score)\n",
    "\n",
    "# Calling GridSearchCV\n",
    "grid_cv = GridSearchCV(estimator=pipe, param_grid=param_grid, scoring=scorer, cv=5, n_jobs = -1)\n",
    "\n",
    "# Fitting parameters in GridSeachCV\n",
    "grid_cv.fit(X_train, y_train)\n",
    "\n",
    "print(\n",
    "    \"Best Parameters:{} \\nScore: {}\".format(grid_cv.best_params_, grid_cv.best_score_)\n",
    ")"
   ]
  },
  {
   "cell_type": "code",
   "execution_count": 66,
   "metadata": {},
   "outputs": [
    {
     "data": {
      "text/plain": [
       "Pipeline(steps=[('standardscaler', StandardScaler()),\n",
       "                ('gradientboostingclassifier',\n",
       "                 GradientBoostingClassifier(init=AdaBoostClassifier(random_state=1),\n",
       "                                            max_features=0.7, random_state=1,\n",
       "                                            subsample=0.7))])"
      ]
     },
     "execution_count": 66,
     "metadata": {},
     "output_type": "execute_result"
    }
   ],
   "source": [
    "# Creating new pipeline with best parameters\n",
    "gbc_tuned1 = make_pipeline(\n",
    "    StandardScaler(),\n",
    "    GradientBoostingClassifier(\n",
    "        init=AdaBoostClassifier(random_state=1),\n",
    "        learning_rate=0.1,\n",
    "        max_features=0.7,\n",
    "        n_estimators=100,\n",
    "        subsample=0.7,\n",
    "        random_state=1,\n",
    "    ),\n",
    ")\n",
    "\n",
    "# Fit the model on training data\n",
    "gbc_tuned1.fit(X_train, y_train)"
   ]
  },
  {
   "cell_type": "code",
   "execution_count": 67,
   "metadata": {},
   "outputs": [
    {
     "name": "stdout",
     "output_type": "stream",
     "text": [
      "Precision on training set :  0.9092231597323247\n",
      "Precision on test set :  0.8819163292847504\n"
     ]
    },
    {
     "data": {
      "image/png": "[encoded data removed]",
      "text/plain": [
       "<Figure size 720x504 with 2 Axes>"
      ]
     },
     "metadata": {},
     "output_type": "display_data"
    }
   ],
   "source": [
    "# Calculating different metrics\n",
    "get_metrics_score(gbc_tuned1,X_train,X_test,y_train,y_test)\n",
    "\n",
    "# Creating confusion matrix\n",
    "make_confusion_matrix2(gbc_tuned1, y_test)"
   ]
  },
  {
   "cell_type": "markdown",
   "metadata": {},
   "source": [
    "- Grid search took significantly longer time than previous models.\n",
    "- Model is not overfitting train set and seems to present I good delta (small) between train and test datasets.\n",
    "- The precision on test dataset has decreased to 88.19 as compared to the result from cross validation 87.80 with default parameters."
   ]
  },
  {
   "cell_type": "markdown",
   "metadata": {},
   "source": [
    "**1.2.6.2.2 RandomizedSearchCV - GradientBoost**"
   ]
  },
  {
   "cell_type": "code",
   "execution_count": 71,
   "metadata": {},
   "outputs": [
    {
     "name": "stdout",
     "output_type": "stream",
     "text": [
      "Best parameters are {'gradientboostingclassifier__subsample': 0.7, 'gradientboostingclassifier__n_estimators': 100, 'gradientboostingclassifier__max_features': 0.5, 'gradientboostingclassifier__learning_rate': 0.2, 'gradientboostingclassifier__init': AdaBoostClassifier(random_state=1)} with CV score=0.8816045311168337:\n",
      "Wall time: 1min 10s\n"
     ]
    }
   ],
   "source": [
    "%%time \n",
    "\n",
    "#Creating pipeline\n",
    "pipe=make_pipeline(StandardScaler(),GradientBoostingClassifier(random_state=1))\n",
    "\n",
    "#Parameter grid to pass in RandomSearchCV\n",
    "param_grid = {\n",
    "    \"gradientboostingclassifier__init\": [AdaBoostClassifier(random_state=1),DecisionTreeClassifier(random_state=1)],\n",
    "    \"gradientboostingclassifier__n_estimators\": np.arange(75,150,25),\n",
    "    \"gradientboostingclassifier__learning_rate\": [0.1, 0.01, 0.2, 0.05, 1],\n",
    "    \"gradientboostingclassifier__subsample\":[0.5,0.7,1],\n",
    "    \"gradientboostingclassifier__max_features\":[0.5,0.7,1],\n",
    "}\n",
    "\n",
    "# Type of scoring used to compare parameter combinations\n",
    "scorer = metrics.make_scorer(metrics.precision_score)\n",
    "\n",
    "#Calling RandomizedSearchCV\n",
    "randomized_cv = RandomizedSearchCV(estimator=pipe, param_distributions=param_grid, n_iter=50, scoring=scorer, cv=5, random_state=1, n_jobs = -1)\n",
    "\n",
    "#Fitting parameters in RandomizedSearchCV\n",
    "randomized_cv.fit(X_train,y_train)\n",
    "\n",
    "print(\"Best parameters are {} with CV score={}:\" .format(randomized_cv.best_params_,randomized_cv.best_score_))"
   ]
  },
  {
   "cell_type": "code",
   "execution_count": 69,
   "metadata": {},
   "outputs": [
    {
     "data": {
      "text/plain": [
       "Pipeline(steps=[('standardscaler', StandardScaler()),\n",
       "                ('gradientboostingclassifier',\n",
       "                 GradientBoostingClassifier(init=AdaBoostClassifier(random_state=1),\n",
       "                                            learning_rate=0.2, max_features=0.5,\n",
       "                                            random_state=1, subsample=0.7))])"
      ]
     },
     "execution_count": 69,
     "metadata": {},
     "output_type": "execute_result"
    }
   ],
   "source": [
    "# Creating new pipeline with best parameters\n",
    "gbc_tuned2 = make_pipeline(\n",
    "    StandardScaler(),\n",
    "    GradientBoostingClassifier(\n",
    "        init=AdaBoostClassifier(random_state=1),\n",
    "        learning_rate=0.2,\n",
    "        max_features=0.5,\n",
    "        n_estimators=100,\n",
    "        subsample=0.7,\n",
    "        random_state=1,\n",
    "    ),\n",
    ")\n",
    "\n",
    "# Fit the model on training data\n",
    "gbc_tuned2.fit(X_train, y_train)"
   ]
  },
  {
   "cell_type": "code",
   "execution_count": 70,
   "metadata": {},
   "outputs": [
    {
     "name": "stdout",
     "output_type": "stream",
     "text": [
      "Precision on training set :  0.9224985540775015\n",
      "Precision on test set :  0.8885112168592794\n"
     ]
    },
    {
     "data": {
      "image/png": "[encoded data removed]",
      "text/plain": [
       "<Figure size 720x504 with 2 Axes>"
      ]
     },
     "metadata": {},
     "output_type": "display_data"
    }
   ],
   "source": [
    "# Calculating different metrics\n",
    "get_metrics_score(gbc_tuned2,X_train,X_test,y_train,y_test)\n",
    "\n",
    "# Creating confusion matrix\n",
    "make_confusion_matrix2(gbc_tuned2, y_test)"
   ]
  },
  {
   "cell_type": "markdown",
   "metadata": {},
   "source": [
    "- The parameters from random search to grid search changed very little.\n",
    "- Model is not overfitting train set for the parameters given by random search.\n",
    "- The precision on test dataset has increased to 88.85 as compared to the result from grid search 88.19 with default parameters."
   ]
  },
  {
   "cell_type": "markdown",
   "metadata": {},
   "source": [
    "**1.2.6.3 Hyperparameter Tuning - Random Forest**"
   ]
  },
  {
   "cell_type": "markdown",
   "metadata": {},
   "source": [
    "**1.2.6.3.1 GridSerach CV - Random Forest**"
   ]
  },
  {
   "cell_type": "code",
   "execution_count": 75,
   "metadata": {},
   "outputs": [
    {
     "name": "stdout",
     "output_type": "stream",
     "text": [
      "Best Parameters:{'randomforestclassifier__max_features': 'sqrt', 'randomforestclassifier__max_samples': 0.30000000000000004, 'randomforestclassifier__min_samples_leaf': 1, 'randomforestclassifier__n_estimators': 350} \n",
      "Score: 0.8918330392428\n",
      "Wall time: 4min 37s\n"
     ]
    }
   ],
   "source": [
    "%%time \n",
    "\n",
    "# Creating pipeline\n",
    "pipe = make_pipeline(StandardScaler(), RandomForestClassifier(random_state=1))\n",
    "\n",
    "# Parameter grid to pass in GridSearchCV\n",
    "\n",
    "param_grid = {\n",
    "    \"randomforestclassifier__n_estimators\": [100,150,250,350],\n",
    "    \"randomforestclassifier__min_samples_leaf\": np.arange(1, 6),\n",
    "    \"randomforestclassifier__max_features\": [np.arange(0.3, 0.6, 0.1),'sqrt','log2'],\n",
    "    \"randomforestclassifier__max_samples\": np.arange(0.2, 0.6, 0.1),\n",
    "}\n",
    "\n",
    "# Type of scoring used to compare parameter combinations\n",
    "scorer = metrics.make_scorer(metrics.precision_score)\n",
    "\n",
    "# Calling GridSearchCV\n",
    "grid_cv = GridSearchCV(estimator=pipe, param_grid=param_grid, scoring=scorer, cv=5, n_jobs = -1)\n",
    "\n",
    "# Fitting parameters in GridSeachCV\n",
    "grid_cv.fit(X_train, y_train)\n",
    "\n",
    "print(\n",
    "    \"Best Parameters:{} \\nScore: {}\".format(grid_cv.best_params_, grid_cv.best_score_)\n",
    ")"
   ]
  },
  {
   "cell_type": "code",
   "execution_count": 76,
   "metadata": {},
   "outputs": [
    {
     "data": {
      "text/plain": [
       "Pipeline(steps=[('standardscaler', StandardScaler()),\n",
       "                ('randomforestclassifier',\n",
       "                 RandomForestClassifier(max_features='sqrt',\n",
       "                                        max_samples=0.30000000000000004,\n",
       "                                        n_estimators=350, random_state=1))])"
      ]
     },
     "execution_count": 76,
     "metadata": {},
     "output_type": "execute_result"
    }
   ],
   "source": [
    "# Creating new pipeline with best parameters\n",
    "rf_tuned1 = make_pipeline(\n",
    "    StandardScaler(),\n",
    "    RandomForestClassifier(\n",
    "        n_estimators=350,\n",
    "        max_features='sqrt',\n",
    "        random_state=1,\n",
    "        max_samples=0.30000000000000004,\n",
    "        min_samples_leaf=1\n",
    "    ),\n",
    ")\n",
    "\n",
    "# Fit the model on training data\n",
    "rf_tuned1.fit(X_train, y_train)"
   ]
  },
  {
   "cell_type": "code",
   "execution_count": 77,
   "metadata": {
    "scrolled": false
   },
   "outputs": [
    {
     "name": "stdout",
     "output_type": "stream",
     "text": [
      "Precision on training set :  0.9571387199536635\n",
      "Precision on test set :  0.8956043956043956\n"
     ]
    },
    {
     "data": {
      "image/png": "[encoded data removed]",
      "text/plain": [
       "<Figure size 720x504 with 2 Axes>"
      ]
     },
     "metadata": {},
     "output_type": "display_data"
    }
   ],
   "source": [
    "# Calculating different metrics\n",
    "get_metrics_score(rf_tuned1,X_train,X_test,y_train,y_test)\n",
    "\n",
    "# Creating confusion matrix\n",
    "make_confusion_matrix2(rf_tuned1, y_test)"
   ]
  },
  {
   "cell_type": "markdown",
   "metadata": {},
   "source": [
    "- Grid search took a little longer in time to process. \n",
    "- Model is not overfitting train set and seems to present I reasoanble delta between train and test datasets.\n",
    "- The precision on test dataset has increased to 89.56 as compared to the result from cross validation 89.16 with default parameters."
   ]
  },
  {
   "cell_type": "markdown",
   "metadata": {},
   "source": [
    "**1.2.6.3.2 RandomizedSearchCV - Random Forest**"
   ]
  },
  {
   "cell_type": "code",
   "execution_count": 78,
   "metadata": {},
   "outputs": [
    {
     "name": "stdout",
     "output_type": "stream",
     "text": [
      "Best parameters are {'randomforestclassifier__n_estimators': 100, 'randomforestclassifier__min_samples_leaf': 2, 'randomforestclassifier__max_samples': 0.5000000000000001, 'randomforestclassifier__max_features': 'sqrt'} with CV score=0.8914009309761657:\n",
      "Wall time: 44.7 s\n"
     ]
    }
   ],
   "source": [
    "%%time\n",
    "\n",
    "# Creating pipeline\n",
    "pipe = make_pipeline(StandardScaler(), RandomForestClassifier(random_state=1))\n",
    "\n",
    "# Parameter grid to pass in RandomSearchCV\n",
    "param_grid = {\n",
    "    \"randomforestclassifier__n_estimators\": [100,150,250],\n",
    "    \"randomforestclassifier__min_samples_leaf\": np.arange(1, 6),\n",
    "    \"randomforestclassifier__max_features\": [np.arange(0.3, 0.6, 0.1),'sqrt','log2'],\n",
    "    \"randomforestclassifier__max_samples\": np.arange(0.2, 0.6, 0.1),\n",
    "}\n",
    "\n",
    "# Type of scoring used to compare parameter combinations\n",
    "scorer = metrics.make_scorer(metrics.precision_score)\n",
    "\n",
    "#Calling RandomizedSearchCV\n",
    "randomized_cv = RandomizedSearchCV(estimator=pipe, param_distributions=param_grid, n_jobs = -1, n_iter=50, scoring=scorer, cv=5, random_state=1)\n",
    "\n",
    "#Fitting parameters in RandomizedSearchCV\n",
    "randomized_cv.fit(X_train,y_train)\n",
    "\n",
    "print(\"Best parameters are {} with CV score={}:\" .format(randomized_cv.best_params_,randomized_cv.best_score_))"
   ]
  },
  {
   "cell_type": "code",
   "execution_count": 79,
   "metadata": {},
   "outputs": [
    {
     "data": {
      "text/plain": [
       "Pipeline(steps=[('standardscaler', StandardScaler()),\n",
       "                ('randomforestclassifier',\n",
       "                 RandomForestClassifier(max_features='sqrt',\n",
       "                                        max_samples=0.5000000000000001,\n",
       "                                        min_samples_leaf=2, random_state=1))])"
      ]
     },
     "execution_count": 79,
     "metadata": {},
     "output_type": "execute_result"
    }
   ],
   "source": [
    "# Creating new pipeline with best parameters\n",
    "rf_tuned2 = make_pipeline(\n",
    "    StandardScaler(),\n",
    "    RandomForestClassifier(\n",
    "        n_estimators=100,\n",
    "        max_features='sqrt',\n",
    "        random_state=1,\n",
    "        max_samples=0.5000000000000001,\n",
    "        min_samples_leaf=2\n",
    "    ),\n",
    ")\n",
    "\n",
    "# Fit the model on training data\n",
    "rf_tuned2.fit(X_train, y_train)"
   ]
  },
  {
   "cell_type": "code",
   "execution_count": 80,
   "metadata": {},
   "outputs": [
    {
     "name": "stdout",
     "output_type": "stream",
     "text": [
      "Precision on training set :  0.9654477397063058\n",
      "Precision on test set :  0.8948805460750853\n"
     ]
    },
    {
     "data": {
      "image/png": "[encoded data removed]",
      "text/plain": [
       "<Figure size 720x504 with 2 Axes>"
      ]
     },
     "metadata": {},
     "output_type": "display_data"
    }
   ],
   "source": [
    "# Calculating different metrics\n",
    "get_metrics_score(rf_tuned2,X_train,X_test,y_train,y_test)\n",
    "\n",
    "# Creating confusion matrix\n",
    "make_confusion_matrix2(rf_tuned2, y_test)"
   ]
  },
  {
   "cell_type": "markdown",
   "metadata": {},
   "source": [
    "- Randomized search took significantly less time than grid search. \n",
    "- The parameters from random search are different from grid search defaut parameters.\n",
    "- The model is not overfitting the train data and parameters given by random search resulted in a good performance.\n",
    "- The precision on test dataset has decreased to 89.48 as compared to the result from grid search 89.56 with default parameters."
   ]
  },
  {
   "cell_type": "markdown",
   "metadata": {},
   "source": [
    "**1.2.6.4 Hyperparameter Tuning - XGBoost**"
   ]
  },
  {
   "cell_type": "markdown",
   "metadata": {},
   "source": [
    "**1.2.6.4.1 GridSerach CV - XGBoost**"
   ]
  },
  {
   "cell_type": "code",
   "execution_count": 79,
   "metadata": {},
   "outputs": [
    {
     "name": "stdout",
     "output_type": "stream",
     "text": [
      "Best parameters are {'xgbclassifier__gamma': 1, 'xgbclassifier__learning_rate': 0.1, 'xgbclassifier__n_estimators': 250, 'xgbclassifier__scale_pos_weight': 1, 'xgbclassifier__subsample': 0.9} with CV score=0.9005907409119995:\n",
      "Wall time: 1h 19min 57s\n"
     ]
    }
   ],
   "source": [
    "XGB_time = %%time \n",
    "\n",
    "#Creating pipeline\n",
    "pipe=make_pipeline(StandardScaler(), XGBClassifier(random_state=1,eval_metric='logloss'))\n",
    "\n",
    "#Parameter grid to pass in GridSearchCV\n",
    "param_grid={'xgbclassifier__n_estimators':np.arange(50,300,50),'xgbclassifier__scale_pos_weight':[0,1,2,5,10],\n",
    "            'xgbclassifier__learning_rate':[0.01,0.1,0.2,0.05], 'xgbclassifier__gamma':[0,1,3,5],\n",
    "            'xgbclassifier__subsample':[0.7,0.8,0.9,1]}\n",
    "\n",
    "# Type of scoring used to compare parameter combinations\n",
    "scorer = metrics.make_scorer(metrics.precision_score)\n",
    "\n",
    "#Calling GridSearchCV\n",
    "grid_cv = GridSearchCV(estimator=pipe, param_grid=param_grid, scoring=scorer, cv=5, n_jobs = -1)\n",
    "\n",
    "#Fitting parameters in GridSeachCV\n",
    "grid_cv.fit(X_train,y_train)\n",
    "\n",
    "\n",
    "print(\"Best parameters are {} with CV score={}:\" .format(grid_cv.best_params_,grid_cv.best_score_))"
   ]
  },
  {
   "cell_type": "code",
   "execution_count": 81,
   "metadata": {},
   "outputs": [
    {
     "data": {
      "text/plain": [
       "Pipeline(steps=[('standardscaler', StandardScaler()),\n",
       "                ('xgbclassifier',\n",
       "                 XGBClassifier(base_score=0.5, booster='gbtree',\n",
       "                               colsample_bylevel=1, colsample_bynode=1,\n",
       "                               colsample_bytree=1, eval_metric='logloss',\n",
       "                               gamma=1, gpu_id=-1, importance_type='gain',\n",
       "                               interaction_constraints='', learning_rate=0.1,\n",
       "                               max_delta_step=0, max_depth=6,\n",
       "                               min_child_weight=1, missing=nan,\n",
       "                               monotone_constraints='()', n_estimators=250,\n",
       "                               n_jobs=8, num_parallel_tree=1, random_state=1,\n",
       "                               reg_alpha=0, reg_lambda=1, scale_pos_weight=1,\n",
       "                               subsample=0.9, tree_method='exact',\n",
       "                               validate_parameters=1, verbosity=None))])"
      ]
     },
     "execution_count": 81,
     "metadata": {},
     "output_type": "execute_result"
    }
   ],
   "source": [
    "# Creating new pipeline with best parameters\n",
    "xgb_tuned1 = make_pipeline(\n",
    "    StandardScaler(),\n",
    "    XGBClassifier(\n",
    "        random_state=1,\n",
    "        n_estimators=250,\n",
    "        scale_pos_weight=1,\n",
    "        subsample=0.9,\n",
    "        learning_rate=0.1,\n",
    "        gamma=1,\n",
    "        eval_metric='logloss',\n",
    "    ),\n",
    ")\n",
    "\n",
    "# Fit the model on training data\n",
    "xgb_tuned1.fit(X_train, y_train)"
   ]
  },
  {
   "cell_type": "code",
   "execution_count": 82,
   "metadata": {},
   "outputs": [
    {
     "name": "stdout",
     "output_type": "stream",
     "text": [
      "Precision on training set :  0.9971272622809537\n",
      "Precision on test set :  0.9035498995311454\n"
     ]
    },
    {
     "data": {
      "image/png": "[encoded data removed]",
      "text/plain": [
       "<Figure size 720x504 with 2 Axes>"
      ]
     },
     "metadata": {},
     "output_type": "display_data"
    }
   ],
   "source": [
    "# Calculating different metrics\n",
    "get_metrics_score(xgb_tuned1,X_train,X_test,y_train,y_test)\n",
    "\n",
    "# Creating confusion matrix\n",
    "make_confusion_matrix2(xgb_tuned1, y_test)"
   ]
  },
  {
   "cell_type": "markdown",
   "metadata": {},
   "source": [
    "- Grid search took more time than any other model so far. \n",
    "- Model is overfitting train set and seems to present a big delta between train and test datasets.\n",
    "- The precision on test dataset has increased to 90.35 as compared to the result from cross validation 88.95 with default parameters."
   ]
  },
  {
   "cell_type": "markdown",
   "metadata": {},
   "source": [
    "**1.2.6.4.2 RandomizedSearchCV - XGBoost**"
   ]
  },
  {
   "cell_type": "code",
   "execution_count": 83,
   "metadata": {},
   "outputs": [
    {
     "name": "stdout",
     "output_type": "stream",
     "text": [
      "Best parameters are {'xgbclassifier__subsample': 0.7, 'xgbclassifier__scale_pos_weight': 1, 'xgbclassifier__n_estimators': 150, 'xgbclassifier__learning_rate': 0.05, 'xgbclassifier__gamma': 3} with CV score=0.8932590917404912:\n",
      "Wall time: 2min 35s\n"
     ]
    }
   ],
   "source": [
    "%%time \n",
    "\n",
    "#Creating pipeline\n",
    "pipe=make_pipeline(StandardScaler(),XGBClassifier(random_state=1,eval_metric='logloss'))\n",
    "\n",
    "#Parameter grid to pass in RandomSearchCV\n",
    "param_grid={'xgbclassifier__n_estimators':np.arange(50,300,50),'xgbclassifier__scale_pos_weight':[0,1,2,5,10],\n",
    "            'xgbclassifier__learning_rate':[0.01,0.1,0.2,0.05], 'xgbclassifier__gamma':[0,1,3,5],\n",
    "            'xgbclassifier__subsample':[0.7,0.8,0.9,1]}\n",
    "\n",
    "# Type of scoring used to compare parameter combinations\n",
    "scorer = metrics.make_scorer(metrics.precision_score)\n",
    "\n",
    "#Calling RandomizedSearchCV\n",
    "randomized_cv = RandomizedSearchCV(estimator=pipe, param_distributions=param_grid, n_iter=50, n_jobs = -1, scoring=scorer, cv=5, random_state=1)\n",
    "\n",
    "#Fitting parameters in RandomizedSearchCV\n",
    "randomized_cv.fit(X_train,y_train)\n",
    "\n",
    "print(\"Best parameters are {} with CV score={}:\" .format(randomized_cv.best_params_,randomized_cv.best_score_))"
   ]
  },
  {
   "cell_type": "code",
   "execution_count": 84,
   "metadata": {},
   "outputs": [
    {
     "data": {
      "text/plain": [
       "Pipeline(steps=[('scaler', StandardScaler()),\n",
       "                ('XGB',\n",
       "                 XGBClassifier(base_score=0.5, booster='gbtree',\n",
       "                               colsample_bylevel=1, colsample_bynode=1,\n",
       "                               colsample_bytree=1, eval_metric='logloss',\n",
       "                               gamma=3, gpu_id=-1, importance_type='gain',\n",
       "                               interaction_constraints='', learning_rate=0.05,\n",
       "                               max_delta_step=0, max_depth=6,\n",
       "                               min_child_weight=1, missing=nan,\n",
       "                               monotone_constraints='()', n_estimators=150,\n",
       "                               n_jobs=8, num_parallel_tree=1, random_state=1,\n",
       "                               reg_alpha=0, reg_lambda=1, scale_pos_weight=1,\n",
       "                               subsample=0.7, tree_method='exact',\n",
       "                               validate_parameters=1, verbosity=None))])"
      ]
     },
     "execution_count": 84,
     "metadata": {},
     "output_type": "execute_result"
    }
   ],
   "source": [
    "# Creating new pipeline with best parameters\n",
    "xgb_tuned2 = Pipeline(\n",
    "    steps=[\n",
    "        (\"scaler\", StandardScaler()),\n",
    "        (\n",
    "            \"XGB\",\n",
    "            XGBClassifier(\n",
    "                random_state=1,\n",
    "                n_estimators=150,\n",
    "                scale_pos_weight=1,\n",
    "                learning_rate=0.05,\n",
    "                gamma=3,\n",
    "                subsample=0.7,\n",
    "                eval_metric='logloss',\n",
    "            ),\n",
    "        ),\n",
    "    ]\n",
    ")\n",
    "# Fit the model on training data\n",
    "xgb_tuned2.fit(X_train, y_train)"
   ]
  },
  {
   "cell_type": "code",
   "execution_count": 85,
   "metadata": {},
   "outputs": [
    {
     "name": "stdout",
     "output_type": "stream",
     "text": [
      "Precision on training set :  0.9505813953488372\n",
      "Precision on test set :  0.9050203527815468\n"
     ]
    },
    {
     "data": {
      "image/png": "[encoded data removed]",
      "text/plain": [
       "<Figure size 720x504 with 2 Axes>"
      ]
     },
     "metadata": {},
     "output_type": "display_data"
    }
   ],
   "source": [
    "# Calculating different metrics\n",
    "get_metrics_score(xgb_tuned2,X_train,X_test,y_train,y_test)\n",
    "\n",
    "# Creating confusion matrix\n",
    "make_confusion_matrix2(xgb_tuned2, y_test)"
   ]
  },
  {
   "cell_type": "markdown",
   "metadata": {},
   "source": [
    "- Randomized search was very fast in comparison to grid search.. \n",
    "- Model is NOT overfitting train set and seems to present a big delta between train and test datasets.\n",
    "- The precision on test dataset has increased to 90.50 as compared to the result from grid search 90.35 with default parameters.\n",
    "- This model has presented a excelent result so far."
   ]
  },
  {
   "cell_type": "code",
   "execution_count": null,
   "metadata": {},
   "outputs": [],
   "source": [
    "#Code to make sound and notebook are done\n",
    "#import winsound\n",
    "#frequency = 1500  # Set Frequency To 2500 Hertz\n",
    "#duration = 1500  # Set Duration To 1000 ms == 1 second\n",
    "#winsound.Beep(frequency, duration)"
   ]
  },
  {
   "cell_type": "markdown",
   "metadata": {},
   "source": [
    "**1.2.7 Summary of Results, Hypertuning phase** "
   ]
  },
  {
   "cell_type": "code",
   "execution_count": 87,
   "metadata": {},
   "outputs": [],
   "source": [
    "#del precision_train\n",
    "#del precision_test"
   ]
  },
  {
   "cell_type": "code",
   "execution_count": 88,
   "metadata": {},
   "outputs": [],
   "source": [
    "# defining list of models\n",
    "models = [bagg_tuned1,bagg_tuned2,gbc_tuned1,gbc_tuned2,rf_tuned1,rf_tuned2,xgb_tuned1,xgb_tuned2]"
   ]
  },
  {
   "cell_type": "code",
   "execution_count": 89,
   "metadata": {},
   "outputs": [],
   "source": [
    "# defining empty lists to add train and test results    \n",
    "precision_train = []\n",
    "precision_test = []\n",
    "\n",
    "# looping through all the models to get the metric score -  Precision\n",
    "for model in models:\n",
    "    \n",
    "    j = get_metrics_score(model,X_train,X_test,y_train,y_test,False)\n",
    "    precision_train.append(j[0])\n",
    "    precision_test.append(j[1])"
   ]
  },
  {
   "cell_type": "code",
   "execution_count": 106,
   "metadata": {},
   "outputs": [],
   "source": [
    "#Adding results from Logistic Regression\n",
    "precision_train.append(Lg_train)\n",
    "precision_test.append(Lg_test)"
   ]
  },
  {
   "cell_type": "code",
   "execution_count": 108,
   "metadata": {},
   "outputs": [],
   "source": [
    "#Adding Results from Logistic Regression with Optimal Threshold\n",
    "precision_train.append(Lg_opt_train)\n",
    "precision_test.append(Lg_opt_test)"
   ]
  },
  {
   "cell_type": "code",
   "execution_count": 112,
   "metadata": {},
   "outputs": [
    {
     "data": {
      "text/html": [
       "<div>\n",
       "<style scoped>\n",
       "    .dataframe tbody tr th:only-of-type {\n",
       "        vertical-align: middle;\n",
       "    }\n",
       "\n",
       "    .dataframe tbody tr th {\n",
       "        vertical-align: top;\n",
       "    }\n",
       "\n",
       "    .dataframe thead th {\n",
       "        text-align: right;\n",
       "    }\n",
       "</style>\n",
       "<table border=\"1\" class=\"dataframe\">\n",
       "  <thead>\n",
       "    <tr style=\"text-align: right;\">\n",
       "      <th></th>\n",
       "      <th>Model</th>\n",
       "      <th>Train_Precision</th>\n",
       "      <th>Test_Precision</th>\n",
       "    </tr>\n",
       "  </thead>\n",
       "  <tbody>\n",
       "    <tr>\n",
       "      <th>0</th>\n",
       "      <td>Bagging Classifier with GridSearchCV</td>\n",
       "      <td>0.998</td>\n",
       "      <td>0.899</td>\n",
       "    </tr>\n",
       "    <tr>\n",
       "      <th>1</th>\n",
       "      <td>Bagging Classifier with RandomizedSearchCV</td>\n",
       "      <td>0.996</td>\n",
       "      <td>0.886</td>\n",
       "    </tr>\n",
       "    <tr>\n",
       "      <th>2</th>\n",
       "      <td>GradientBoost with GridSearchCV</td>\n",
       "      <td>0.909</td>\n",
       "      <td>0.882</td>\n",
       "    </tr>\n",
       "    <tr>\n",
       "      <th>3</th>\n",
       "      <td>GradientBoost with RandomizedSearchCV</td>\n",
       "      <td>0.922</td>\n",
       "      <td>0.889</td>\n",
       "    </tr>\n",
       "    <tr>\n",
       "      <th>4</th>\n",
       "      <td>Random Forest with GridSearchCV</td>\n",
       "      <td>0.957</td>\n",
       "      <td>0.896</td>\n",
       "    </tr>\n",
       "    <tr>\n",
       "      <th>5</th>\n",
       "      <td>Random Forest with RandomizedSearchCV</td>\n",
       "      <td>0.965</td>\n",
       "      <td>0.895</td>\n",
       "    </tr>\n",
       "    <tr>\n",
       "      <th>6</th>\n",
       "      <td>XGBoost with GridSearchCV</td>\n",
       "      <td>0.997</td>\n",
       "      <td>0.904</td>\n",
       "    </tr>\n",
       "    <tr>\n",
       "      <th>7</th>\n",
       "      <td>XGBoost with RandomizedSearchCV</td>\n",
       "      <td>0.951</td>\n",
       "      <td>0.905</td>\n",
       "    </tr>\n",
       "    <tr>\n",
       "      <th>8</th>\n",
       "      <td>Logistic Regression</td>\n",
       "      <td>0.853</td>\n",
       "      <td>0.860</td>\n",
       "    </tr>\n",
       "    <tr>\n",
       "      <th>9</th>\n",
       "      <td>Logistic Regression w/ Optimal Threshold</td>\n",
       "      <td>0.859</td>\n",
       "      <td>0.865</td>\n",
       "    </tr>\n",
       "  </tbody>\n",
       "</table>\n",
       "</div>"
      ],
      "text/plain": [
       "                                        Model  Train_Precision  Test_Precision\n",
       "0        Bagging Classifier with GridSearchCV            0.998           0.899\n",
       "1  Bagging Classifier with RandomizedSearchCV            0.996           0.886\n",
       "2             GradientBoost with GridSearchCV            0.909           0.882\n",
       "3       GradientBoost with RandomizedSearchCV            0.922           0.889\n",
       "4             Random Forest with GridSearchCV            0.957           0.896\n",
       "5       Random Forest with RandomizedSearchCV            0.965           0.895\n",
       "6                   XGBoost with GridSearchCV            0.997           0.904\n",
       "7             XGBoost with RandomizedSearchCV            0.951           0.905\n",
       "8                         Logistic Regression            0.853           0.860\n",
       "9    Logistic Regression w/ Optimal Threshold            0.859           0.865"
      ]
     },
     "execution_count": 112,
     "metadata": {},
     "output_type": "execute_result"
    }
   ],
   "source": [
    "#Creating Dataframe to show results from all models\n",
    "comparison_frame = pd.DataFrame(\n",
    "    {\n",
    "        \"Model\": [\n",
    "            \"Bagging Classifier with GridSearchCV\",\n",
    "            \"Bagging Classifier with RandomizedSearchCV\",\n",
    "            \"GradientBoost with GridSearchCV\",\n",
    "            \"GradientBoost with RandomizedSearchCV\",\n",
    "            \"Random Forest with GridSearchCV\",\n",
    "            \"Random Forest with RandomizedSearchCV\",            \n",
    "            \"XGBoost with GridSearchCV\",\n",
    "            \"XGBoost with RandomizedSearchCV\",\n",
    "            \"Logistic Regression\",\n",
    "            \"Logistic Regression w/ Optimal Threshold\"\n",
    "            \n",
    "        ],\n",
    "        \"Train_Precision\": precision_train,\n",
    "        \"Test_Precision\": precision_test,\n",
    "    }\n",
    ")\n",
    "\n",
    "# Sorting models in decreasing order of test recall\n",
    "comparison_frame"
   ]
  },
  {
   "cell_type": "code",
   "execution_count": 113,
   "metadata": {},
   "outputs": [],
   "source": [
    "#creating delta feature column for precision values\n",
    "comparison_frame['Delta'] = comparison_frame['Train_Precision'] - comparison_frame['Test_Precision']"
   ]
  },
  {
   "cell_type": "code",
   "execution_count": 114,
   "metadata": {},
   "outputs": [
    {
     "data": {
      "text/html": [
       "<div>\n",
       "<style scoped>\n",
       "    .dataframe tbody tr th:only-of-type {\n",
       "        vertical-align: middle;\n",
       "    }\n",
       "\n",
       "    .dataframe tbody tr th {\n",
       "        vertical-align: top;\n",
       "    }\n",
       "\n",
       "    .dataframe thead th {\n",
       "        text-align: right;\n",
       "    }\n",
       "</style>\n",
       "<table border=\"1\" class=\"dataframe\">\n",
       "  <thead>\n",
       "    <tr style=\"text-align: right;\">\n",
       "      <th></th>\n",
       "      <th>Model</th>\n",
       "      <th>Train_Precision</th>\n",
       "      <th>Test_Precision</th>\n",
       "      <th>Delta</th>\n",
       "    </tr>\n",
       "  </thead>\n",
       "  <tbody>\n",
       "    <tr>\n",
       "      <th>7</th>\n",
       "      <td>XGBoost with RandomizedSearchCV</td>\n",
       "      <td>0.951</td>\n",
       "      <td>0.905</td>\n",
       "      <td>0.046</td>\n",
       "    </tr>\n",
       "    <tr>\n",
       "      <th>6</th>\n",
       "      <td>XGBoost with GridSearchCV</td>\n",
       "      <td>0.997</td>\n",
       "      <td>0.904</td>\n",
       "      <td>0.094</td>\n",
       "    </tr>\n",
       "    <tr>\n",
       "      <th>0</th>\n",
       "      <td>Bagging Classifier with GridSearchCV</td>\n",
       "      <td>0.998</td>\n",
       "      <td>0.899</td>\n",
       "      <td>0.099</td>\n",
       "    </tr>\n",
       "    <tr>\n",
       "      <th>4</th>\n",
       "      <td>Random Forest with GridSearchCV</td>\n",
       "      <td>0.957</td>\n",
       "      <td>0.896</td>\n",
       "      <td>0.062</td>\n",
       "    </tr>\n",
       "    <tr>\n",
       "      <th>5</th>\n",
       "      <td>Random Forest with RandomizedSearchCV</td>\n",
       "      <td>0.965</td>\n",
       "      <td>0.895</td>\n",
       "      <td>0.071</td>\n",
       "    </tr>\n",
       "    <tr>\n",
       "      <th>3</th>\n",
       "      <td>GradientBoost with RandomizedSearchCV</td>\n",
       "      <td>0.922</td>\n",
       "      <td>0.889</td>\n",
       "      <td>0.034</td>\n",
       "    </tr>\n",
       "    <tr>\n",
       "      <th>1</th>\n",
       "      <td>Bagging Classifier with RandomizedSearchCV</td>\n",
       "      <td>0.996</td>\n",
       "      <td>0.886</td>\n",
       "      <td>0.110</td>\n",
       "    </tr>\n",
       "    <tr>\n",
       "      <th>2</th>\n",
       "      <td>GradientBoost with GridSearchCV</td>\n",
       "      <td>0.909</td>\n",
       "      <td>0.882</td>\n",
       "      <td>0.027</td>\n",
       "    </tr>\n",
       "    <tr>\n",
       "      <th>9</th>\n",
       "      <td>Logistic Regression w/ Optimal Threshold</td>\n",
       "      <td>0.859</td>\n",
       "      <td>0.865</td>\n",
       "      <td>-0.007</td>\n",
       "    </tr>\n",
       "    <tr>\n",
       "      <th>8</th>\n",
       "      <td>Logistic Regression</td>\n",
       "      <td>0.853</td>\n",
       "      <td>0.860</td>\n",
       "      <td>-0.007</td>\n",
       "    </tr>\n",
       "  </tbody>\n",
       "</table>\n",
       "</div>"
      ],
      "text/plain": [
       "                                        Model  Train_Precision  \\\n",
       "7             XGBoost with RandomizedSearchCV            0.951   \n",
       "6                   XGBoost with GridSearchCV            0.997   \n",
       "0        Bagging Classifier with GridSearchCV            0.998   \n",
       "4             Random Forest with GridSearchCV            0.957   \n",
       "5       Random Forest with RandomizedSearchCV            0.965   \n",
       "3       GradientBoost with RandomizedSearchCV            0.922   \n",
       "1  Bagging Classifier with RandomizedSearchCV            0.996   \n",
       "2             GradientBoost with GridSearchCV            0.909   \n",
       "9    Logistic Regression w/ Optimal Threshold            0.859   \n",
       "8                         Logistic Regression            0.853   \n",
       "\n",
       "   Test_Precision  Delta  \n",
       "7           0.905  0.046  \n",
       "6           0.904  0.094  \n",
       "0           0.899  0.099  \n",
       "4           0.896  0.062  \n",
       "5           0.895  0.071  \n",
       "3           0.889  0.034  \n",
       "1           0.886  0.110  \n",
       "2           0.882  0.027  \n",
       "9           0.865 -0.007  \n",
       "8           0.860 -0.007  "
      ]
     },
     "execution_count": 114,
     "metadata": {},
     "output_type": "execute_result"
    }
   ],
   "source": [
    "comparison_frame.sort_values(by=['Test_Precision'],ascending=False)"
   ]
  },
  {
   "cell_type": "markdown",
   "metadata": {},
   "source": [
    "**1.2.7.1 Conclusion Over Hypertuning** "
   ]
  },
  {
   "cell_type": "markdown",
   "metadata": {},
   "source": [
    "**The 3 Models below were selected based on their performance:**\n",
    "- XGBoost with RandomizedSearchCV (7) presented the best result with a good delta between train and test datasets that indicate no signs of overfitting.\n",
    "- Random Forest with GridSearchCV (4) presented a great result with lower delta.\n",
    "- GradientBoost with RandomizedSearchCV (3) also presented a good result and lower delta\n",
    "\n",
    "**Observation:** Other models in between are overfitting train set, models (6, 0 and 1) and then where not selected.\n",
    "                 Model Random Forest with RandomizedSearchCV (5) was not included since the same model with RandomizedSerach CV was already selected and the decision was toward to improve model variety.\n",
    "\n",
    "**Processing Times:**\n",
    "- Two out of three best models used Randomized Search CV and almost for any model that used this technic their processing time were lower than 3 min.\n",
    "- On the other hand models using regular Grid Search CV took much longer to process with the biggest time for XGBoost with GridSearchCV where it took 1h and 19 minutes to process.\n",
    "**In conclusion** when time is a constrain, at least for this dataset it was proved that randomized grid search was the technic which took the least amount of time and best perfored."
   ]
  },
  {
   "cell_type": "markdown",
   "metadata": {},
   "source": [
    "**1.2.8 Modeling Full dataset** "
   ]
  },
  {
   "cell_type": "code",
   "execution_count": 115,
   "metadata": {},
   "outputs": [
    {
     "data": {
      "text/html": [
       "<div>\n",
       "<style scoped>\n",
       "    .dataframe tbody tr th:only-of-type {\n",
       "        vertical-align: middle;\n",
       "    }\n",
       "\n",
       "    .dataframe tbody tr th {\n",
       "        vertical-align: top;\n",
       "    }\n",
       "\n",
       "    .dataframe thead th {\n",
       "        text-align: right;\n",
       "    }\n",
       "</style>\n",
       "<table border=\"1\" class=\"dataframe\">\n",
       "  <thead>\n",
       "    <tr style=\"text-align: right;\">\n",
       "      <th></th>\n",
       "      <th>PCA_1</th>\n",
       "      <th>PCA_2</th>\n",
       "      <th>PCA_3</th>\n",
       "      <th>PCA_4</th>\n",
       "      <th>PCA_5</th>\n",
       "      <th>PCA_6</th>\n",
       "      <th>PCA_7</th>\n",
       "      <th>PCA_8</th>\n",
       "      <th>PCA_9</th>\n",
       "      <th>PCA_10</th>\n",
       "      <th>PCA_11</th>\n",
       "      <th>PCA_12</th>\n",
       "      <th>PCA_13</th>\n",
       "      <th>Satisfaction</th>\n",
       "    </tr>\n",
       "  </thead>\n",
       "  <tbody>\n",
       "    <tr>\n",
       "      <th>236782</th>\n",
       "      <td>-1.568</td>\n",
       "      <td>3.794</td>\n",
       "      <td>-1.603</td>\n",
       "      <td>2.816</td>\n",
       "      <td>-1.841</td>\n",
       "      <td>1.391</td>\n",
       "      <td>0.179</td>\n",
       "      <td>0.349</td>\n",
       "      <td>-0.999</td>\n",
       "      <td>0.131</td>\n",
       "      <td>-0.023</td>\n",
       "      <td>-0.017</td>\n",
       "      <td>0.655</td>\n",
       "      <td>satisfied</td>\n",
       "    </tr>\n",
       "    <tr>\n",
       "      <th>198324</th>\n",
       "      <td>5.220</td>\n",
       "      <td>2.259</td>\n",
       "      <td>-0.740</td>\n",
       "      <td>0.272</td>\n",
       "      <td>-0.042</td>\n",
       "      <td>-2.160</td>\n",
       "      <td>0.666</td>\n",
       "      <td>-1.024</td>\n",
       "      <td>0.018</td>\n",
       "      <td>-0.374</td>\n",
       "      <td>1.353</td>\n",
       "      <td>0.120</td>\n",
       "      <td>-0.088</td>\n",
       "      <td>neutral or dissatisfied</td>\n",
       "    </tr>\n",
       "    <tr>\n",
       "      <th>232285</th>\n",
       "      <td>-2.940</td>\n",
       "      <td>-0.492</td>\n",
       "      <td>-1.555</td>\n",
       "      <td>1.598</td>\n",
       "      <td>-1.711</td>\n",
       "      <td>1.441</td>\n",
       "      <td>-0.137</td>\n",
       "      <td>0.177</td>\n",
       "      <td>-0.122</td>\n",
       "      <td>-0.569</td>\n",
       "      <td>-0.159</td>\n",
       "      <td>-0.020</td>\n",
       "      <td>-0.417</td>\n",
       "      <td>satisfied</td>\n",
       "    </tr>\n",
       "    <tr>\n",
       "      <th>217265</th>\n",
       "      <td>-0.420</td>\n",
       "      <td>3.553</td>\n",
       "      <td>-1.571</td>\n",
       "      <td>2.603</td>\n",
       "      <td>0.296</td>\n",
       "      <td>-2.011</td>\n",
       "      <td>-0.292</td>\n",
       "      <td>1.374</td>\n",
       "      <td>0.273</td>\n",
       "      <td>-0.411</td>\n",
       "      <td>0.665</td>\n",
       "      <td>0.030</td>\n",
       "      <td>-0.204</td>\n",
       "      <td>satisfied</td>\n",
       "    </tr>\n",
       "    <tr>\n",
       "      <th>233140</th>\n",
       "      <td>-1.052</td>\n",
       "      <td>-0.922</td>\n",
       "      <td>0.065</td>\n",
       "      <td>-0.913</td>\n",
       "      <td>2.766</td>\n",
       "      <td>2.679</td>\n",
       "      <td>-0.582</td>\n",
       "      <td>-1.455</td>\n",
       "      <td>-1.732</td>\n",
       "      <td>-0.434</td>\n",
       "      <td>-0.012</td>\n",
       "      <td>0.052</td>\n",
       "      <td>-0.221</td>\n",
       "      <td>satisfied</td>\n",
       "    </tr>\n",
       "    <tr>\n",
       "      <th>...</th>\n",
       "      <td>...</td>\n",
       "      <td>...</td>\n",
       "      <td>...</td>\n",
       "      <td>...</td>\n",
       "      <td>...</td>\n",
       "      <td>...</td>\n",
       "      <td>...</td>\n",
       "      <td>...</td>\n",
       "      <td>...</td>\n",
       "      <td>...</td>\n",
       "      <td>...</td>\n",
       "      <td>...</td>\n",
       "      <td>...</td>\n",
       "      <td>...</td>\n",
       "    </tr>\n",
       "    <tr>\n",
       "      <th>229365</th>\n",
       "      <td>-3.022</td>\n",
       "      <td>4.106</td>\n",
       "      <td>0.910</td>\n",
       "      <td>-2.145</td>\n",
       "      <td>-0.630</td>\n",
       "      <td>-0.365</td>\n",
       "      <td>1.083</td>\n",
       "      <td>-0.410</td>\n",
       "      <td>0.317</td>\n",
       "      <td>-0.076</td>\n",
       "      <td>-0.133</td>\n",
       "      <td>0.019</td>\n",
       "      <td>-0.067</td>\n",
       "      <td>satisfied</td>\n",
       "    </tr>\n",
       "    <tr>\n",
       "      <th>156823</th>\n",
       "      <td>-0.797</td>\n",
       "      <td>-1.497</td>\n",
       "      <td>3.248</td>\n",
       "      <td>-0.656</td>\n",
       "      <td>0.348</td>\n",
       "      <td>-1.579</td>\n",
       "      <td>0.065</td>\n",
       "      <td>0.871</td>\n",
       "      <td>-0.124</td>\n",
       "      <td>0.224</td>\n",
       "      <td>-0.190</td>\n",
       "      <td>-0.001</td>\n",
       "      <td>0.488</td>\n",
       "      <td>satisfied</td>\n",
       "    </tr>\n",
       "    <tr>\n",
       "      <th>217093</th>\n",
       "      <td>-0.048</td>\n",
       "      <td>3.515</td>\n",
       "      <td>-1.693</td>\n",
       "      <td>2.377</td>\n",
       "      <td>0.234</td>\n",
       "      <td>-2.040</td>\n",
       "      <td>-0.059</td>\n",
       "      <td>0.902</td>\n",
       "      <td>-0.138</td>\n",
       "      <td>0.273</td>\n",
       "      <td>-0.147</td>\n",
       "      <td>0.011</td>\n",
       "      <td>0.267</td>\n",
       "      <td>satisfied</td>\n",
       "    </tr>\n",
       "    <tr>\n",
       "      <th>197263</th>\n",
       "      <td>2.762</td>\n",
       "      <td>-1.555</td>\n",
       "      <td>-2.669</td>\n",
       "      <td>-0.087</td>\n",
       "      <td>-1.569</td>\n",
       "      <td>-2.583</td>\n",
       "      <td>0.939</td>\n",
       "      <td>-0.288</td>\n",
       "      <td>0.451</td>\n",
       "      <td>1.125</td>\n",
       "      <td>-0.628</td>\n",
       "      <td>0.006</td>\n",
       "      <td>0.489</td>\n",
       "      <td>neutral or dissatisfied</td>\n",
       "    </tr>\n",
       "    <tr>\n",
       "      <th>219662</th>\n",
       "      <td>-3.069</td>\n",
       "      <td>-0.362</td>\n",
       "      <td>-0.015</td>\n",
       "      <td>-2.719</td>\n",
       "      <td>0.014</td>\n",
       "      <td>-0.137</td>\n",
       "      <td>1.267</td>\n",
       "      <td>0.021</td>\n",
       "      <td>0.773</td>\n",
       "      <td>-0.257</td>\n",
       "      <td>-0.210</td>\n",
       "      <td>-0.003</td>\n",
       "      <td>0.503</td>\n",
       "      <td>satisfied</td>\n",
       "    </tr>\n",
       "  </tbody>\n",
       "</table>\n",
       "<p>90917 rows × 14 columns</p>\n",
       "</div>"
      ],
      "text/plain": [
       "        PCA_1  PCA_2  PCA_3  PCA_4  PCA_5  PCA_6  PCA_7  PCA_8  PCA_9  PCA_10  \\\n",
       "236782 -1.568  3.794 -1.603  2.816 -1.841  1.391  0.179  0.349 -0.999   0.131   \n",
       "198324  5.220  2.259 -0.740  0.272 -0.042 -2.160  0.666 -1.024  0.018  -0.374   \n",
       "232285 -2.940 -0.492 -1.555  1.598 -1.711  1.441 -0.137  0.177 -0.122  -0.569   \n",
       "217265 -0.420  3.553 -1.571  2.603  0.296 -2.011 -0.292  1.374  0.273  -0.411   \n",
       "233140 -1.052 -0.922  0.065 -0.913  2.766  2.679 -0.582 -1.455 -1.732  -0.434   \n",
       "...       ...    ...    ...    ...    ...    ...    ...    ...    ...     ...   \n",
       "229365 -3.022  4.106  0.910 -2.145 -0.630 -0.365  1.083 -0.410  0.317  -0.076   \n",
       "156823 -0.797 -1.497  3.248 -0.656  0.348 -1.579  0.065  0.871 -0.124   0.224   \n",
       "217093 -0.048  3.515 -1.693  2.377  0.234 -2.040 -0.059  0.902 -0.138   0.273   \n",
       "197263  2.762 -1.555 -2.669 -0.087 -1.569 -2.583  0.939 -0.288  0.451   1.125   \n",
       "219662 -3.069 -0.362 -0.015 -2.719  0.014 -0.137  1.267  0.021  0.773  -0.257   \n",
       "\n",
       "        PCA_11  PCA_12  PCA_13             Satisfaction  \n",
       "236782  -0.023  -0.017   0.655                satisfied  \n",
       "198324   1.353   0.120  -0.088  neutral or dissatisfied  \n",
       "232285  -0.159  -0.020  -0.417                satisfied  \n",
       "217265   0.665   0.030  -0.204                satisfied  \n",
       "233140  -0.012   0.052  -0.221                satisfied  \n",
       "...        ...     ...     ...                      ...  \n",
       "229365  -0.133   0.019  -0.067                satisfied  \n",
       "156823  -0.190  -0.001   0.488                satisfied  \n",
       "217093  -0.147   0.011   0.267                satisfied  \n",
       "197263  -0.628   0.006   0.489  neutral or dissatisfied  \n",
       "219662  -0.210  -0.003   0.503                satisfied  \n",
       "\n",
       "[90917 rows x 14 columns]"
      ]
     },
     "execution_count": 115,
     "metadata": {},
     "output_type": "execute_result"
    }
   ],
   "source": [
    "#Looking at the original dataset\n",
    "df_o"
   ]
  },
  {
   "cell_type": "markdown",
   "metadata": {},
   "source": [
    "**1.2.8.1 Split dataset** "
   ]
  },
  {
   "cell_type": "code",
   "execution_count": 116,
   "metadata": {},
   "outputs": [],
   "source": [
    "#Splitting target variable\n",
    "X = df_o.drop(['Satisfaction'],axis=1)\n",
    "y = df_o['Satisfaction'].apply(lambda x : 0 if x=='neutral or dissatisfied' else 1)"
   ]
  },
  {
   "cell_type": "code",
   "execution_count": 117,
   "metadata": {},
   "outputs": [
    {
     "name": "stdout",
     "output_type": "stream",
     "text": [
      "(63641, 13) (27276, 13)\n"
     ]
    }
   ],
   "source": [
    "# Splitting data into training and test set:\n",
    "X1_train, X1_test, y1_train, y1_test = train_test_split(X, y, test_size=0.3, random_state=7,stratify=y)\n",
    "print(X1_train.shape, X1_test.shape)"
   ]
  },
  {
   "cell_type": "markdown",
   "metadata": {},
   "source": [
    "**1.2.8.2 Passing dataset in the first model: XGBoost with RandomizedSearchCV** "
   ]
  },
  {
   "cell_type": "code",
   "execution_count": 118,
   "metadata": {},
   "outputs": [
    {
     "name": "stdout",
     "output_type": "stream",
     "text": [
      "Wall time: 7.94 s\n"
     ]
    },
    {
     "data": {
      "text/plain": [
       "Pipeline(steps=[('scaler', StandardScaler()),\n",
       "                ('XGB',\n",
       "                 XGBClassifier(base_score=0.5, booster='gbtree',\n",
       "                               colsample_bylevel=1, colsample_bynode=1,\n",
       "                               colsample_bytree=1, eval_metric='logloss',\n",
       "                               gamma=5, gpu_id=-1, importance_type='gain',\n",
       "                               interaction_constraints='', learning_rate=0.1,\n",
       "                               max_delta_step=0, max_depth=6,\n",
       "                               min_child_weight=1, missing=nan,\n",
       "                               monotone_constraints='()', n_estimators=100,\n",
       "                               n_jobs=8, num_parallel_tree=1, random_state=1,\n",
       "                               reg_alpha=0, reg_lambda=1, scale_pos_weight=1,\n",
       "                               subsample=0.8, tree_method='exact',\n",
       "                               validate_parameters=1, verbosity=None))])"
      ]
     },
     "execution_count": 118,
     "metadata": {},
     "output_type": "execute_result"
    }
   ],
   "source": [
    "%%time \n",
    "\n",
    "xgb_tuned3 = Pipeline(\n",
    "    steps=[\n",
    "        (\"scaler\", StandardScaler()),\n",
    "        (\n",
    "            \"XGB\",\n",
    "            XGBClassifier(\n",
    "                random_state=1,\n",
    "                n_estimators=100,\n",
    "                scale_pos_weight=1,\n",
    "                learning_rate=0.1,\n",
    "                gamma=5,\n",
    "                subsample=0.8,\n",
    "                eval_metric='logloss',\n",
    "            ),\n",
    "        ),\n",
    "    ]\n",
    ")\n",
    "# Fit the model on training data\n",
    "xgb_tuned3.fit(X1_train, y1_train)"
   ]
  },
  {
   "cell_type": "markdown",
   "metadata": {},
   "source": [
    "**1.2.8.3 Passing dataset in the Second model: Random Forest with GridSearchCV** "
   ]
  },
  {
   "cell_type": "code",
   "execution_count": 122,
   "metadata": {},
   "outputs": [
    {
     "name": "stdout",
     "output_type": "stream",
     "text": [
      "Wall time: 3.11 s\n"
     ]
    },
    {
     "data": {
      "text/plain": [
       "Pipeline(steps=[('standardscaler', StandardScaler()),\n",
       "                ('randomforestclassifier',\n",
       "                 RandomForestClassifier(max_features='sqrt',\n",
       "                                        max_samples=0.30000000000000004,\n",
       "                                        n_estimators=350, random_state=1))])"
      ]
     },
     "execution_count": 122,
     "metadata": {},
     "output_type": "execute_result"
    }
   ],
   "source": [
    "%%time \n",
    "\n",
    "rf_tuned3 = make_pipeline(\n",
    "    StandardScaler(),\n",
    "    RandomForestClassifier(\n",
    "        n_estimators=350,\n",
    "        max_features='sqrt',\n",
    "        random_state=1,\n",
    "        max_samples=0.30000000000000004,\n",
    "        min_samples_leaf=1\n",
    "    ),\n",
    ")\n",
    "\n",
    "# Fit the model on training data\n",
    "rf_tuned3.fit(X_train, y_train)"
   ]
  },
  {
   "cell_type": "markdown",
   "metadata": {},
   "source": [
    "**1.2.8.4 Passing dataset in the first model: GradientBoost with RandomizedSearchCV** "
   ]
  },
  {
   "cell_type": "code",
   "execution_count": 123,
   "metadata": {},
   "outputs": [
    {
     "name": "stdout",
     "output_type": "stream",
     "text": [
      "Wall time: 2.54 s\n"
     ]
    },
    {
     "data": {
      "text/plain": [
       "Pipeline(steps=[('standardscaler', StandardScaler()),\n",
       "                ('gradientboostingclassifier',\n",
       "                 GradientBoostingClassifier(init=AdaBoostClassifier(random_state=1),\n",
       "                                            learning_rate=0.2, max_features=0.5,\n",
       "                                            random_state=1, subsample=0.7))])"
      ]
     },
     "execution_count": 123,
     "metadata": {},
     "output_type": "execute_result"
    }
   ],
   "source": [
    "%%time \n",
    "\n",
    "gbc_tuned3 = make_pipeline(\n",
    "    StandardScaler(),\n",
    "    GradientBoostingClassifier(\n",
    "        init=AdaBoostClassifier(random_state=1),\n",
    "        learning_rate=0.2,\n",
    "        max_features=0.5,\n",
    "        n_estimators=100,\n",
    "        subsample=0.7,\n",
    "        random_state=1,\n",
    "    ),\n",
    ")\n",
    "\n",
    "# Fit the model on training data\n",
    "gbc_tuned3.fit(X_train, y_train)\n"
   ]
  },
  {
   "cell_type": "code",
   "execution_count": 125,
   "metadata": {},
   "outputs": [],
   "source": [
    "# defining list of models\n",
    "models3 = [xgb_tuned3,rf_tuned3,gbc_tuned3]"
   ]
  },
  {
   "cell_type": "code",
   "execution_count": 126,
   "metadata": {},
   "outputs": [],
   "source": [
    "# defining empty lists to add train and test results    \n",
    "precision_train3 = []\n",
    "precision_test3 = []\n",
    "\n",
    "# looping through all the models to get the metric score -  Precision\n",
    "for model in models3:\n",
    "    \n",
    "    j = get_metrics_score(model,X1_train,X1_test,y1_train,y1_test,False)\n",
    "    precision_train3.append(j[0])\n",
    "    precision_test3.append(j[1])"
   ]
  },
  {
   "cell_type": "code",
   "execution_count": 127,
   "metadata": {},
   "outputs": [
    {
     "data": {
      "text/html": [
       "<div>\n",
       "<style scoped>\n",
       "    .dataframe tbody tr th:only-of-type {\n",
       "        vertical-align: middle;\n",
       "    }\n",
       "\n",
       "    .dataframe tbody tr th {\n",
       "        vertical-align: top;\n",
       "    }\n",
       "\n",
       "    .dataframe thead th {\n",
       "        text-align: right;\n",
       "    }\n",
       "</style>\n",
       "<table border=\"1\" class=\"dataframe\">\n",
       "  <thead>\n",
       "    <tr style=\"text-align: right;\">\n",
       "      <th></th>\n",
       "      <th>Model</th>\n",
       "      <th>Train_Precision</th>\n",
       "      <th>Test_Precision</th>\n",
       "    </tr>\n",
       "  </thead>\n",
       "  <tbody>\n",
       "    <tr>\n",
       "      <th>0</th>\n",
       "      <td>XGBoost with RandomizedSearchCV</td>\n",
       "      <td>0.920</td>\n",
       "      <td>0.904</td>\n",
       "    </tr>\n",
       "    <tr>\n",
       "      <th>1</th>\n",
       "      <td>Random Forest with GridSearchCV</td>\n",
       "      <td>0.892</td>\n",
       "      <td>0.892</td>\n",
       "    </tr>\n",
       "    <tr>\n",
       "      <th>2</th>\n",
       "      <td>GradientBoost with RandomizedSearchCV</td>\n",
       "      <td>0.885</td>\n",
       "      <td>0.883</td>\n",
       "    </tr>\n",
       "  </tbody>\n",
       "</table>\n",
       "</div>"
      ],
      "text/plain": [
       "                                   Model  Train_Precision  Test_Precision\n",
       "0        XGBoost with RandomizedSearchCV            0.920           0.904\n",
       "1        Random Forest with GridSearchCV            0.892           0.892\n",
       "2  GradientBoost with RandomizedSearchCV            0.885           0.883"
      ]
     },
     "execution_count": 127,
     "metadata": {},
     "output_type": "execute_result"
    }
   ],
   "source": [
    "#Creating Dataframe to show results from all models\n",
    "comparison_frame1 = pd.DataFrame(\n",
    "    {\n",
    "        \"Model\": [\n",
    "            \"XGBoost with RandomizedSearchCV\",\n",
    "            \"Random Forest with GridSearchCV\",\n",
    "            \"GradientBoost with RandomizedSearchCV\"            \n",
    "        ],\n",
    "        \"Train_Precision\": precision_train3,\n",
    "        \"Test_Precision\": precision_test3,\n",
    "    }\n",
    ")\n",
    "\n",
    "# Sorting models in decreasing order of test recall\n",
    "comparison_frame1"
   ]
  },
  {
   "cell_type": "markdown",
   "metadata": {},
   "source": [
    "**1.2.8.5 Model Selection** "
   ]
  },
  {
   "cell_type": "markdown",
   "metadata": {},
   "source": [
    "- XGBoost with RandomizedSearchCV and Random Forest with GridSearchCV presented the best performance.\n",
    "- Any model could be selected at this point. All 3 models presented an excelente result and did not overfit.\n",
    "- The result using the full dataset in comparison with 10% sample was even better with a slight better performance.\n",
    "- XGBoost was selected since it presented the best performance among all models."
   ]
  },
  {
   "cell_type": "markdown",
   "metadata": {},
   "source": [
    "**1.2.9 Feature Importance** "
   ]
  },
  {
   "cell_type": "code",
   "execution_count": 130,
   "metadata": {},
   "outputs": [
    {
     "data": {
      "image/png": "[encoded data removed]",
      "text/plain": [
       "<Figure size 864x864 with 1 Axes>"
      ]
     },
     "metadata": {},
     "output_type": "display_data"
    }
   ],
   "source": [
    "#Plot Feature Importance\n",
    "feature_names = X1_train.columns\n",
    "importances = xgb_tuned3[1].feature_importances_\n",
    "indices = np.argsort(importances)\n",
    "\n",
    "plt.figure(figsize=(12, 12))\n",
    "plt.title(\"Feature Importances\")\n",
    "plt.barh(range(len(indices)), importances[indices], color=\"violet\", align=\"center\")\n",
    "plt.yticks(range(len(indices)), [feature_names[i] for i in indices])\n",
    "plt.xlabel(\"Relative Importance\")\n",
    "plt.show()"
   ]
  },
  {
   "cell_type": "markdown",
   "metadata": {},
   "source": [
    "**1.2.9.1 Feature Importance Conclusion** "
   ]
  },
  {
   "cell_type": "markdown",
   "metadata": {},
   "source": [
    "- As observed in other projects when using PCA, feature Importance loose its interpretability and becomes hard to explain what are the variables that formed the actual principal components. The next lines of codes will be an attempt to interpret each principal component."
   ]
  }
 ],
 "metadata": {
  "kernelspec": {
   "display_name": "Python 3",
   "language": "python",
   "name": "python3"
  },
  "language_info": {
   "codemirror_mode": {
    "name": "ipython",
    "version": 3
   },
   "file_extension": ".py",
   "mimetype": "text/x-python",
   "name": "python",
   "nbconvert_exporter": "python",
   "pygments_lexer": "ipython3",
   "version": "3.8.5"
  }
 },
 "nbformat": 4,
 "nbformat_minor": 4
}
